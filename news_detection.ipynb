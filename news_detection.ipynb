{
  "cells": [
    {
      "cell_type": "code",
      "execution_count": 1,
      "id": "23dab7c2-daaf-4027-829e-96ed5a06adea",
      "metadata": {
        "colab": {
          "base_uri": "https://localhost:8080/"
        },
        "id": "23dab7c2-daaf-4027-829e-96ed5a06adea",
        "outputId": "b55272f5-2377-4b28-c893-e4d1e989d01b"
      },
      "outputs": [
        {
          "output_type": "stream",
          "name": "stdout",
          "text": [
            "Wed Jul 16 20:26:59 2025       \n",
            "+-----------------------------------------------------------------------------------------+\n",
            "| NVIDIA-SMI 550.54.15              Driver Version: 550.54.15      CUDA Version: 12.4     |\n",
            "|-----------------------------------------+------------------------+----------------------+\n",
            "| GPU  Name                 Persistence-M | Bus-Id          Disp.A | Volatile Uncorr. ECC |\n",
            "| Fan  Temp   Perf          Pwr:Usage/Cap |           Memory-Usage | GPU-Util  Compute M. |\n",
            "|                                         |                        |               MIG M. |\n",
            "|=========================================+========================+======================|\n",
            "|   0  Tesla T4                       Off |   00000000:00:04.0 Off |                    0 |\n",
            "| N/A   43C    P8              9W /   70W |       0MiB /  15360MiB |      0%      Default |\n",
            "|                                         |                        |                  N/A |\n",
            "+-----------------------------------------+------------------------+----------------------+\n",
            "                                                                                         \n",
            "+-----------------------------------------------------------------------------------------+\n",
            "| Processes:                                                                              |\n",
            "|  GPU   GI   CI        PID   Type   Process name                              GPU Memory |\n",
            "|        ID   ID                                                               Usage      |\n",
            "|=========================================================================================|\n",
            "|  No running processes found                                                             |\n",
            "+-----------------------------------------------------------------------------------------+\n"
          ]
        }
      ],
      "source": [
        "!nvidia-smi"
      ]
    },
    {
      "cell_type": "code",
      "execution_count": 2,
      "id": "361ecdc4-023f-4d36-96fb-8fea4feb005d",
      "metadata": {
        "id": "361ecdc4-023f-4d36-96fb-8fea4feb005d"
      },
      "outputs": [],
      "source": [
        "import warnings\n",
        "warnings.filterwarnings('ignore')\n",
        "\n",
        "import tensorflow as tf"
      ]
    },
    {
      "cell_type": "code",
      "execution_count": 3,
      "id": "d3fc1566-b75c-447e-bdf4-0d1824b54f98",
      "metadata": {
        "colab": {
          "base_uri": "https://localhost:8080/"
        },
        "id": "d3fc1566-b75c-447e-bdf4-0d1824b54f98",
        "outputId": "a687afc8-4a54-4919-a80a-ab478f039fe5"
      },
      "outputs": [
        {
          "output_type": "stream",
          "name": "stdout",
          "text": [
            "Path to dataset files: /kaggle/input/fake-and-real-news-dataset\n"
          ]
        }
      ],
      "source": [
        "import kagglehub\n",
        "\n",
        "# Download latest version\n",
        "path = kagglehub.dataset_download(\"clmentbisaillon/fake-and-real-news-dataset\")\n",
        "\n",
        "print(\"Path to dataset files:\", path)"
      ]
    },
    {
      "cell_type": "code",
      "execution_count": 4,
      "id": "ec580f64-6e00-40f3-92ac-916b6a2e00fc",
      "metadata": {
        "id": "ec580f64-6e00-40f3-92ac-916b6a2e00fc"
      },
      "outputs": [],
      "source": [
        "true_csv_path = \"/kaggle/input/fake-and-real-news-dataset/True.csv\"\n",
        "fake_csv_path = \"/kaggle/input/fake-and-real-news-dataset/Fake.csv\""
      ]
    },
    {
      "cell_type": "code",
      "execution_count": 5,
      "id": "e1574247-4410-4c78-9115-6d75332fc940",
      "metadata": {
        "id": "e1574247-4410-4c78-9115-6d75332fc940"
      },
      "outputs": [],
      "source": [
        "import pandas as pd\n",
        "import numpy as np"
      ]
    },
    {
      "cell_type": "code",
      "execution_count": 6,
      "id": "6f8a2b60-49ff-4947-9dd5-bb96ef41d983",
      "metadata": {
        "colab": {
          "base_uri": "https://localhost:8080/",
          "height": 115
        },
        "id": "6f8a2b60-49ff-4947-9dd5-bb96ef41d983",
        "outputId": "b42cf0ea-e501-49a9-909e-1ece4946c3a9"
      },
      "outputs": [
        {
          "output_type": "execute_result",
          "data": {
            "text/plain": [
              "title    As U.S. budget fight looms, Republicans flip t...\n",
              "Name: 0, dtype: object"
            ],
            "text/html": [
              "<div>\n",
              "<style scoped>\n",
              "    .dataframe tbody tr th:only-of-type {\n",
              "        vertical-align: middle;\n",
              "    }\n",
              "\n",
              "    .dataframe tbody tr th {\n",
              "        vertical-align: top;\n",
              "    }\n",
              "\n",
              "    .dataframe thead th {\n",
              "        text-align: right;\n",
              "    }\n",
              "</style>\n",
              "<table border=\"1\" class=\"dataframe\">\n",
              "  <thead>\n",
              "    <tr style=\"text-align: right;\">\n",
              "      <th></th>\n",
              "      <th>0</th>\n",
              "    </tr>\n",
              "  </thead>\n",
              "  <tbody>\n",
              "    <tr>\n",
              "      <th>title</th>\n",
              "      <td>As U.S. budget fight looms, Republicans flip t...</td>\n",
              "    </tr>\n",
              "  </tbody>\n",
              "</table>\n",
              "</div><br><label><b>dtype:</b> object</label>"
            ]
          },
          "metadata": {},
          "execution_count": 6
        }
      ],
      "source": [
        "true_df = pd.read_csv(true_csv_path)\n",
        "fake_df = pd.read_csv(fake_csv_path)\n",
        "true_df.loc[0][['title']]"
      ]
    },
    {
      "cell_type": "code",
      "execution_count": 7,
      "id": "f8ef9936-b9de-44f0-8d9f-546c7c177023",
      "metadata": {
        "colab": {
          "base_uri": "https://localhost:8080/",
          "height": 206
        },
        "id": "f8ef9936-b9de-44f0-8d9f-546c7c177023",
        "outputId": "562e0928-fd1d-4e4a-b82f-39d35ef294eb"
      },
      "outputs": [
        {
          "output_type": "execute_result",
          "data": {
            "text/plain": [
              "                                                   title  \\\n",
              "21951  Smart Cities, Androids, Technocracy, Kevin Spa...   \n",
              "2930    Internet Hilariously Mocks Trump’s Pathetic, ...   \n",
              "17401  BREAKING: HILLARY CLINTON’S STATE DEPARTMENT G...   \n",
              "12594  BREAKING: CLINTON CHAIRMAN’S SISTER-IN-LAW Lob...   \n",
              "22329  LAME DUCK: New Obama Executive Action Opens Do...   \n",
              "\n",
              "                                                    text          subject  \\\n",
              "21951  Tune in to the Alternate Current Radio Network...          US_News   \n",
              "2930   Trump s inauguration crowd size was pathetic. ...             News   \n",
              "17401  IF SHE S NOT TOAST NOW THEN WE RE IN BIGGER TR...  Government News   \n",
              "12594  Amid the tumult of the 2016 presidential campa...         politics   \n",
              "22329  Patrick Henningsen 21st Century Wire As 21WIRE...          US_News   \n",
              "\n",
              "                   date  \n",
              "21951  November 3, 2017  \n",
              "2930   January 20, 2017  \n",
              "17401      Apr 23, 2015  \n",
              "12594      Oct 28, 2016  \n",
              "22329  December 8, 2016  "
            ],
            "text/html": [
              "\n",
              "  <div id=\"df-02daae44-fbef-4936-baf4-ea83c1afa520\" class=\"colab-df-container\">\n",
              "    <div>\n",
              "<style scoped>\n",
              "    .dataframe tbody tr th:only-of-type {\n",
              "        vertical-align: middle;\n",
              "    }\n",
              "\n",
              "    .dataframe tbody tr th {\n",
              "        vertical-align: top;\n",
              "    }\n",
              "\n",
              "    .dataframe thead th {\n",
              "        text-align: right;\n",
              "    }\n",
              "</style>\n",
              "<table border=\"1\" class=\"dataframe\">\n",
              "  <thead>\n",
              "    <tr style=\"text-align: right;\">\n",
              "      <th></th>\n",
              "      <th>title</th>\n",
              "      <th>text</th>\n",
              "      <th>subject</th>\n",
              "      <th>date</th>\n",
              "    </tr>\n",
              "  </thead>\n",
              "  <tbody>\n",
              "    <tr>\n",
              "      <th>21951</th>\n",
              "      <td>Smart Cities, Androids, Technocracy, Kevin Spa...</td>\n",
              "      <td>Tune in to the Alternate Current Radio Network...</td>\n",
              "      <td>US_News</td>\n",
              "      <td>November 3, 2017</td>\n",
              "    </tr>\n",
              "    <tr>\n",
              "      <th>2930</th>\n",
              "      <td>Internet Hilariously Mocks Trump’s Pathetic, ...</td>\n",
              "      <td>Trump s inauguration crowd size was pathetic. ...</td>\n",
              "      <td>News</td>\n",
              "      <td>January 20, 2017</td>\n",
              "    </tr>\n",
              "    <tr>\n",
              "      <th>17401</th>\n",
              "      <td>BREAKING: HILLARY CLINTON’S STATE DEPARTMENT G...</td>\n",
              "      <td>IF SHE S NOT TOAST NOW THEN WE RE IN BIGGER TR...</td>\n",
              "      <td>Government News</td>\n",
              "      <td>Apr 23, 2015</td>\n",
              "    </tr>\n",
              "    <tr>\n",
              "      <th>12594</th>\n",
              "      <td>BREAKING: CLINTON CHAIRMAN’S SISTER-IN-LAW Lob...</td>\n",
              "      <td>Amid the tumult of the 2016 presidential campa...</td>\n",
              "      <td>politics</td>\n",
              "      <td>Oct 28, 2016</td>\n",
              "    </tr>\n",
              "    <tr>\n",
              "      <th>22329</th>\n",
              "      <td>LAME DUCK: New Obama Executive Action Opens Do...</td>\n",
              "      <td>Patrick Henningsen 21st Century Wire As 21WIRE...</td>\n",
              "      <td>US_News</td>\n",
              "      <td>December 8, 2016</td>\n",
              "    </tr>\n",
              "  </tbody>\n",
              "</table>\n",
              "</div>\n",
              "    <div class=\"colab-df-buttons\">\n",
              "\n",
              "  <div class=\"colab-df-container\">\n",
              "    <button class=\"colab-df-convert\" onclick=\"convertToInteractive('df-02daae44-fbef-4936-baf4-ea83c1afa520')\"\n",
              "            title=\"Convert this dataframe to an interactive table.\"\n",
              "            style=\"display:none;\">\n",
              "\n",
              "  <svg xmlns=\"http://www.w3.org/2000/svg\" height=\"24px\" viewBox=\"0 -960 960 960\">\n",
              "    <path d=\"M120-120v-720h720v720H120Zm60-500h600v-160H180v160Zm220 220h160v-160H400v160Zm0 220h160v-160H400v160ZM180-400h160v-160H180v160Zm440 0h160v-160H620v160ZM180-180h160v-160H180v160Zm440 0h160v-160H620v160Z\"/>\n",
              "  </svg>\n",
              "    </button>\n",
              "\n",
              "  <style>\n",
              "    .colab-df-container {\n",
              "      display:flex;\n",
              "      gap: 12px;\n",
              "    }\n",
              "\n",
              "    .colab-df-convert {\n",
              "      background-color: #E8F0FE;\n",
              "      border: none;\n",
              "      border-radius: 50%;\n",
              "      cursor: pointer;\n",
              "      display: none;\n",
              "      fill: #1967D2;\n",
              "      height: 32px;\n",
              "      padding: 0 0 0 0;\n",
              "      width: 32px;\n",
              "    }\n",
              "\n",
              "    .colab-df-convert:hover {\n",
              "      background-color: #E2EBFA;\n",
              "      box-shadow: 0px 1px 2px rgba(60, 64, 67, 0.3), 0px 1px 3px 1px rgba(60, 64, 67, 0.15);\n",
              "      fill: #174EA6;\n",
              "    }\n",
              "\n",
              "    .colab-df-buttons div {\n",
              "      margin-bottom: 4px;\n",
              "    }\n",
              "\n",
              "    [theme=dark] .colab-df-convert {\n",
              "      background-color: #3B4455;\n",
              "      fill: #D2E3FC;\n",
              "    }\n",
              "\n",
              "    [theme=dark] .colab-df-convert:hover {\n",
              "      background-color: #434B5C;\n",
              "      box-shadow: 0px 1px 3px 1px rgba(0, 0, 0, 0.15);\n",
              "      filter: drop-shadow(0px 1px 2px rgba(0, 0, 0, 0.3));\n",
              "      fill: #FFFFFF;\n",
              "    }\n",
              "  </style>\n",
              "\n",
              "    <script>\n",
              "      const buttonEl =\n",
              "        document.querySelector('#df-02daae44-fbef-4936-baf4-ea83c1afa520 button.colab-df-convert');\n",
              "      buttonEl.style.display =\n",
              "        google.colab.kernel.accessAllowed ? 'block' : 'none';\n",
              "\n",
              "      async function convertToInteractive(key) {\n",
              "        const element = document.querySelector('#df-02daae44-fbef-4936-baf4-ea83c1afa520');\n",
              "        const dataTable =\n",
              "          await google.colab.kernel.invokeFunction('convertToInteractive',\n",
              "                                                    [key], {});\n",
              "        if (!dataTable) return;\n",
              "\n",
              "        const docLinkHtml = 'Like what you see? Visit the ' +\n",
              "          '<a target=\"_blank\" href=https://colab.research.google.com/notebooks/data_table.ipynb>data table notebook</a>'\n",
              "          + ' to learn more about interactive tables.';\n",
              "        element.innerHTML = '';\n",
              "        dataTable['output_type'] = 'display_data';\n",
              "        await google.colab.output.renderOutput(dataTable, element);\n",
              "        const docLink = document.createElement('div');\n",
              "        docLink.innerHTML = docLinkHtml;\n",
              "        element.appendChild(docLink);\n",
              "      }\n",
              "    </script>\n",
              "  </div>\n",
              "\n",
              "\n",
              "    <div id=\"df-0eec8e54-641d-4ea9-9730-849656962a8a\">\n",
              "      <button class=\"colab-df-quickchart\" onclick=\"quickchart('df-0eec8e54-641d-4ea9-9730-849656962a8a')\"\n",
              "                title=\"Suggest charts\"\n",
              "                style=\"display:none;\">\n",
              "\n",
              "<svg xmlns=\"http://www.w3.org/2000/svg\" height=\"24px\"viewBox=\"0 0 24 24\"\n",
              "     width=\"24px\">\n",
              "    <g>\n",
              "        <path d=\"M19 3H5c-1.1 0-2 .9-2 2v14c0 1.1.9 2 2 2h14c1.1 0 2-.9 2-2V5c0-1.1-.9-2-2-2zM9 17H7v-7h2v7zm4 0h-2V7h2v10zm4 0h-2v-4h2v4z\"/>\n",
              "    </g>\n",
              "</svg>\n",
              "      </button>\n",
              "\n",
              "<style>\n",
              "  .colab-df-quickchart {\n",
              "      --bg-color: #E8F0FE;\n",
              "      --fill-color: #1967D2;\n",
              "      --hover-bg-color: #E2EBFA;\n",
              "      --hover-fill-color: #174EA6;\n",
              "      --disabled-fill-color: #AAA;\n",
              "      --disabled-bg-color: #DDD;\n",
              "  }\n",
              "\n",
              "  [theme=dark] .colab-df-quickchart {\n",
              "      --bg-color: #3B4455;\n",
              "      --fill-color: #D2E3FC;\n",
              "      --hover-bg-color: #434B5C;\n",
              "      --hover-fill-color: #FFFFFF;\n",
              "      --disabled-bg-color: #3B4455;\n",
              "      --disabled-fill-color: #666;\n",
              "  }\n",
              "\n",
              "  .colab-df-quickchart {\n",
              "    background-color: var(--bg-color);\n",
              "    border: none;\n",
              "    border-radius: 50%;\n",
              "    cursor: pointer;\n",
              "    display: none;\n",
              "    fill: var(--fill-color);\n",
              "    height: 32px;\n",
              "    padding: 0;\n",
              "    width: 32px;\n",
              "  }\n",
              "\n",
              "  .colab-df-quickchart:hover {\n",
              "    background-color: var(--hover-bg-color);\n",
              "    box-shadow: 0 1px 2px rgba(60, 64, 67, 0.3), 0 1px 3px 1px rgba(60, 64, 67, 0.15);\n",
              "    fill: var(--button-hover-fill-color);\n",
              "  }\n",
              "\n",
              "  .colab-df-quickchart-complete:disabled,\n",
              "  .colab-df-quickchart-complete:disabled:hover {\n",
              "    background-color: var(--disabled-bg-color);\n",
              "    fill: var(--disabled-fill-color);\n",
              "    box-shadow: none;\n",
              "  }\n",
              "\n",
              "  .colab-df-spinner {\n",
              "    border: 2px solid var(--fill-color);\n",
              "    border-color: transparent;\n",
              "    border-bottom-color: var(--fill-color);\n",
              "    animation:\n",
              "      spin 1s steps(1) infinite;\n",
              "  }\n",
              "\n",
              "  @keyframes spin {\n",
              "    0% {\n",
              "      border-color: transparent;\n",
              "      border-bottom-color: var(--fill-color);\n",
              "      border-left-color: var(--fill-color);\n",
              "    }\n",
              "    20% {\n",
              "      border-color: transparent;\n",
              "      border-left-color: var(--fill-color);\n",
              "      border-top-color: var(--fill-color);\n",
              "    }\n",
              "    30% {\n",
              "      border-color: transparent;\n",
              "      border-left-color: var(--fill-color);\n",
              "      border-top-color: var(--fill-color);\n",
              "      border-right-color: var(--fill-color);\n",
              "    }\n",
              "    40% {\n",
              "      border-color: transparent;\n",
              "      border-right-color: var(--fill-color);\n",
              "      border-top-color: var(--fill-color);\n",
              "    }\n",
              "    60% {\n",
              "      border-color: transparent;\n",
              "      border-right-color: var(--fill-color);\n",
              "    }\n",
              "    80% {\n",
              "      border-color: transparent;\n",
              "      border-right-color: var(--fill-color);\n",
              "      border-bottom-color: var(--fill-color);\n",
              "    }\n",
              "    90% {\n",
              "      border-color: transparent;\n",
              "      border-bottom-color: var(--fill-color);\n",
              "    }\n",
              "  }\n",
              "</style>\n",
              "\n",
              "      <script>\n",
              "        async function quickchart(key) {\n",
              "          const quickchartButtonEl =\n",
              "            document.querySelector('#' + key + ' button');\n",
              "          quickchartButtonEl.disabled = true;  // To prevent multiple clicks.\n",
              "          quickchartButtonEl.classList.add('colab-df-spinner');\n",
              "          try {\n",
              "            const charts = await google.colab.kernel.invokeFunction(\n",
              "                'suggestCharts', [key], {});\n",
              "          } catch (error) {\n",
              "            console.error('Error during call to suggestCharts:', error);\n",
              "          }\n",
              "          quickchartButtonEl.classList.remove('colab-df-spinner');\n",
              "          quickchartButtonEl.classList.add('colab-df-quickchart-complete');\n",
              "        }\n",
              "        (() => {\n",
              "          let quickchartButtonEl =\n",
              "            document.querySelector('#df-0eec8e54-641d-4ea9-9730-849656962a8a button');\n",
              "          quickchartButtonEl.style.display =\n",
              "            google.colab.kernel.accessAllowed ? 'block' : 'none';\n",
              "        })();\n",
              "      </script>\n",
              "    </div>\n",
              "\n",
              "    </div>\n",
              "  </div>\n"
            ],
            "application/vnd.google.colaboratory.intrinsic+json": {
              "type": "dataframe",
              "summary": "{\n  \"name\": \"fake_df\",\n  \"rows\": 5,\n  \"fields\": [\n    {\n      \"column\": \"title\",\n      \"properties\": {\n        \"dtype\": \"string\",\n        \"num_unique_values\": 5,\n        \"samples\": [\n          \" Internet Hilariously Mocks Trump\\u2019s Pathetic, Depressing, Empty Inauguration Crowd (TWEETS)\",\n          \"LAME DUCK: New Obama Executive Action Opens Door to Unlimited Arms for Salafist Terrorists in Syria\",\n          \"BREAKING: HILLARY CLINTON\\u2019S STATE DEPARTMENT GAVE RUSSIA HALF OF U.S. URANIUM TO REWARD DONOR\"\n        ],\n        \"semantic_type\": \"\",\n        \"description\": \"\"\n      }\n    },\n    {\n      \"column\": \"text\",\n      \"properties\": {\n        \"dtype\": \"string\",\n        \"num_unique_values\": 5,\n        \"samples\": [\n          \"Trump s inauguration crowd size was pathetic.  How pathetic?  you ask. When The Donald officially took over the @POTUS Twitter account, he didn t use a picture of his own inauguration as the banner image. He used President Obama s:.@realDonaldTrump's official @POTUS banner image of his #Inauguration is actually @GettyImages photo of Obama's. So sad  pic.twitter.com/KtezPZGyWj  noahharlan (@noahharlan) January 20, 2017Naturally, the internet quickly caught on to the fact that no one wants to show up to celebrate Trump becoming the Grand Wizard of our once great nation.For those saying \\\"Trump can't be that hated, look at the size of the crowd\\\"   #Inauguration pic.twitter.com/Sczp6Feta5  Stefan Kay (@5tefanK) January 20, 2017President Trump has officially been sworn in. There is a lot of white in that crowd. #Inauguration #InaugurationDay pic.twitter.com/ueGhfVtqxg  VisuallyBetter (@Isuckatpicking) January 20, 2017Of all the metrics to measure the rancour and division a Trump presidency may bring, the size of a crowd in Washington DC seems the weakest.  SimonNRicketts (@SimonNRicketts) January 20, 2017Crowdenfreude (n)   The feeling Democrats get as they monitor the size of Trump s inaugural crowd. https://t.co/qiYYnAbk1y  Carrie Budoff Brown (@cbudoffbrown) January 20, 2017Crowd on the Mall in Washington DC is one-third the size of Barack Obamas #inaguration? Many challenges for Donald Trump. #InagurationDay  Keri Adams (@Keri_Adams) January 20, 2017You know what they say tiny hands tiny crowd #Inauguration pic.twitter.com/ACCNi2AuTu  Charlie Hayes (@oxfcharlie) January 20, 2017Be ready for Trump to claim he'd have beaten Obama's crowd size but for the rain. As if rain would've kept the #ObamaCoalition away in 2009!  Only4RM (@Only4RM) January 20, 2017Who is taking bets on how long it takes #trump to pick a fight with the Parks Service over crowd size?  Rick Smith (@RickSmithShow) January 19, 2017BREAKING: Either DC was just evacuated, or trump had the SMALLEST #InaugurationDay crowd at the Mall in recent history. #fridayreads #fail pic.twitter.com/oIvWtRfybT  BrooklynDad_Defiant! (@mmpadellan) January 20, 2017@HaroldItz @Glenn__Kenny To be fair, it was one of the biggest crowds there to attend a 3 Doors Down concert.  Chuck Tryon (@chutry) January 20, 2017As Obama and Trump looked at over the crowd, Obama whispered: \\\"Mine's bigger.\\\" #Inauguration @nationallampoon  Les East (@Les_East) January 20, 2017I don't want to hear one word about the massive crowds today. Not one. #InaugurationDay #Inauguration pic.twitter.com/QmgYU87eqz  Norman Golightly (@NormanGolightly) January 20, 2017@HaroldItz And the #Deplorables look on like Yes The biggest ever Yes. pic.twitter.com/6lIE2DgHQh  Angelia  Resist (@TLDRJones) January 20, 2017If you ever need to know exactly how unpopular our President is, just look at the tiny, pathetic crowd that showed up to see him officially assume the office of the President. This is not normal. Nothing about Trump s campaign, election, or presidency is normal. It is time for the American people to steel their resolve to fight against this wildly hated man, to do all they can to keep him from implementing his horrifying and dangerous agenda.The next four years will be hard, perhaps harder than any four-year period in our lifetimes, but one thing Americans have always had is the strength to stand together in times of adversity   and how much more  adverse  could things be than staring down a President who is sitting in the Oval Office thanks to a massive propaganda and fake news campaign, and hacking of his political opponents spearheaded by a hostile foreign dictator?Featured image via screen capture \",\n          \"Patrick Henningsen 21st Century Wire As 21WIRE reported earlier this week, in a historic turning point in a five-year bloody conflict, the Syrian Arab Army liberated the Old City of Aleppo from the hands of occupying terrorists and armed militants. This joint victory by Syria and Russia has caused a panic in Washington, however, as well as in London, Paris, Saudi Arabia and Qatar   all of whom hoped they would eventually destroy the entire city of Aleppo, and win their proxy war in the process. Prior to this week, the US-led  Coalition  still believed that they could somehow force a Syria-Russia military pause, and UN-enforced No Fly Zone or  Safe Zone    by continuing to back a militant opposition that has been occupying East Aleppo since 2012. Their epic failure has prompted yet another highly dangerous and desperate move by a lame duck US President   signing a new order which could deliver unlimited arms and support to  moderate terrorists in Syria. On Tuesday, President Barack Obama issued a White House memorandum (see full text below) to both the US State and Defense departments which waives any arms export control restrictions on providing  military assistance  to any and all  foreign forces  in Syria, according to a White House press release issued today. Presumably, this includes not only guns and ammunition, but also lethal TOW Missiles and RPGs (and anti-aircraft units?) for tens of thousands of extremist foreign fighters and Salafi terrorists currently operating inside Syria, as well as thousands of  US-trained and equipped fighters waiting in camp in both Turkey and Jordan.Not coincidentally, this comes on the same day the US Senate passed a defense bill by a majority vote of 92-7, which authorizes $611 billion in military spending through 2017.Although in 2016 the US allocated some $500 million in US taxpayer funds in order to  train and equip (arm) the so-called moderate rebels  in Syria via the National Defense Authorization Act (NDAA), it s still difficult to determine what is the total cost to date of Washington s support, both overt and covert, for rebel factions in Syria.This seemingly desperate move by Obama can only mean two things. Firstly, it demonstrates that the US and its allies are doggedly determined to prolong one of the bloodiest and dirtiest wars in recent history. Secondly, it signals a last-ditch act of desperation on the part of a President who will be viewed as a perennial loser in a failed proxy war that lasted over 5 years, costing tens of billions of dollars and hundreds of thousands of lives.The executive action also gives additional weight to this week s statement by US State Dept spokesperson Elizabeth Trudeau who stated: Even if Aleppo falls, certainly the war is not over. But our position has not changed on that. Is the outgoing White House trying to plunge the next Administration into a deeper commitment to an unwinnable proxy war in the Middle East?As far as diplomacy is concerned, the agenda couldn t be clearer. This is an all-too-familiar pattern that we ve become used to throughout Washington s endless Syria debacle. While Kerry pretends to negotiate a diplomatic ceasefire or  peace deal  over the table somewhere in Europe, operatives in Washington execute some irrational moves under the table specifically designed to sabotage any real bilateral agreement. Whether it s an US air strike against Syrian Army, a fabricated chemical weapons claim against the Syrian armed forces, or a false flag attack on a UN Aid Convoy the US seems to always pull a trick card when the promise of an agreement is near.According to RT reports from today s OECD talks in Hamburg, Germany, Russian Foreign Minister Sergey Lavrov (image, right) hit back at a recent allegation made by US State Department spokesman Mark Toner who had accused Russia of not actually fighting Jabhat al-Nusra (Al Nusra) terrorists in Syria, but rather that Russia was instead attacking the US-backed  moderate opposition.  Lavrov replied simply by stating, As for Jabhat al-Nusra, the US is not only not touching it, but also tried to negotiate our agreements in a way which let al-Nusra remain unpunished.  He then explained that this group is listed by the UN as a designated terrorist organization, adding that, surely, we cannot accept it. Washington s  name game  of refusing to call a terrorist a terrorist should be old hat by now. Back in September, Lavrov had managed to get US Secretary of State John Kerry to agree to target leading terrorist opposition force Al Nusra Front (al Qaeda in Syria, supported covertly by both the Saudi Arabia and the US/CIA), but this and other provisional ceasefire arrangements quickly collapsed after the US targeted and killed at least 70 Syrian Army soldiers   a brutal operation which allowed ISIS forces to advance towards the key city of Deir el-Zour. This prompted a rather embarrassing public tantrum by Washington s UN Ambassador Samantha Power.Meanwhile, there was a near complete media blackout and no real national discussion over the Stop Arming Terrorists Act introduced by Rep. Tulsi Gabbard (D-HI), which would prohibit the U.S. government from using American taxpayer dollars to provide funding, weapons, training, and intelligence support to groups like Jabhat Fateh al-Sham, al Nusra, al-Qaeda and ISIS, or to countries who are providing direct or indirect support to those same groups, including Saudi Arabia, Qatar and also Israel (see Israeli support for al Qaeda). Not surprisingly, most US Congressmen and Senators oppose such a move   which speaks volumes as to the level of corruption present in Washington today.Once again, Washington drives another impossible wedge into delicate diplomatic negotiations Obama s latest decree stipulates that new arms shipments and military provisions will fall under the banner of  fighting terrorism,  (see the official document below) when in reality, the stated US intention and policies regarding supplying weapons to  moderate opposition Syria who have never actually fought ISIS. Instead, weapons are transferred to armed opposition paramilitaries (including listed Terrorist groups like Al Nusra Front and its numerous affiliates, and even into the hands of ISIS themselves). In reality, these US Coalition-supplied militants are really fighting against the Syrian Army   and not ISIS, and they do so with the expressed intention of overthrowing the Syrian Government led by President Bashar al-Assad. This same regime change is also the stated policy of the US and its allies, and yet Washington is still carrying on with its political charade regardless.Here is the Presidential Memorandum posted on the White House website this afternoon:Presidential Determination and Waiver   Pursuant to Section 2249a of Title 10, United States Code, and Sections 40 and 40A of the Arms Export Control Act to Support U.S. Special Operations to Combat Terrorism in SyriaDecember 8, 2016Presidential Determination No. 2017-05MEMORANDUM FOR THE SECRETARY OF STATE THE SECRETARY OF DEFENSESUBJECT: Presidential Determination and Waiver Pursuant to Section 2249a of Title 10, United States Code, and Sections 40 and 40A of the Arms Export Control Act to Support U.S. Special Operations to Combat Terrorism in SyriaBy the authority vested in me as President by the Constitution and the laws of the United States, including section 2249a of title 10, United States Code, sections 40 and 40A of the Arms Export Control Act (AECA) (22 U.S.C. 2780 and 2781), and section 301 of title 3, United States Code, I hereby:The Secretary of Defense is authorized and directed to publish this determination in the Federal Register.BARACK OBAMA [signed]***During recent peace negotiations in Rome and Hamburg, Sergey Lavrov made it clear that past Washington attempts to deliberately obfuscate and confuse the issue would not work this time   which has no doubt infuriated Washington who has always reserved the right to pull a bait-and-switch, or simply lie its way through negotiations   either to buy time for terrorist ground forces, or simply to railroad any actual agreement before the signing stage. This was certainly the case over the weekend in Rome when, according to RT, Lavrov emphasised that, John Kerry passed on to us proposals from Washington that are in line with the suggestions [on Syria] from Russia s experts.   Then, like clockwork, Washington withdrew the proposal two days later.Accustomed to US double-dealing over Syria, Lavrov seemed to take it stride, saying on Tuesday, They have withdrawn their document and have a new one. Our initial impression is that this new document backtracks, and is an attempt to buy time for the militants, allow them to catch their breath and resupply. Lavrov also chided the UN special envoy to Syria, Staffan de Mistura, to stop sabotaging the Geneva Syria peace talks.Meanwhile, terrorist-occupied East Aleppo was liberated by Government forces. That was Washington s last card in Aleppo, and now it s gone. WESTERN DOUBLESPEAK:  Moderate Rebels  in Syria. Despite now Washington s farcical legal evasion claiming how it is shipping arms into Syria in order to help the long-defunct, albeit aspirational construct, the  Free Syrian Army,  in the supposed  fight against ISIS,  bureaucrats can no longer hide their true intentions. It should also be noted that by arming internationally recognized terrorists fighters   Washington and any other allies involved in these illicit operations   are in direct violation of United States Anti-Terrorism laws, as well as similar European and international laws. However, because this has been a bipartisan effort from the beginning, co-steered by key Republicans including John McCain, Ed Royce, and Mike Rogers   no such indictments may ever be brought against Washington s criminal weapons traffickers. If such a case were ever prosecuted, then every US politician involved in this operation, both Democrat and Republican as well as agency officials, could, in theory, be charged with providing material support and lethal aid to known terrorist entities. Perhaps for this reason, the US and its allies have avoided specifically naming Al Nusra Front and its terror affiliates in most of the language in their official pronouncements of  rebel  support.RT dispatches added the following statement on Wednesday from retired US Army Colonel Larry Wilkerson, who is urging Washington DC to end the spilling of blood in Syria, citing that all western attempts to oust Assad have failed: There is an old theory in international relations that some wars have to be won. Well, this is one that has been won and it has been won by Assad and his allies,  Wilkerson said. The official elaborated that the West should  recognize that to stop the killing, to stop the slaughter, to stop the bloodshed. Stability in this case is better than what we have right now. It would be the same in Libya. We opened Pandora s box in Libya too and look what we have now. Since attempts to drive out the legitimate Syrian President have failed, the international community needs to  make accommodation with him [Assad] We need to bring some stability back to Syria,  Wilkerson concluded.Only two days ago, on the anniversary of Pearl Harbor, President Obama could be seen grandstanding, and boasting about all of his supposed  security  achievements at a speech he gave at CENTCOM HQ at MacDill Air Force Base in Tampa, Florida. On January 20th, I will become the first president of the United States to serve two full terms during a time of war.  he said.What Obama seems to forget is that all of his wars were done in absence of any real Article One Section 8 declaration of war by US Congress, only a vague  Authorization of Force rubber-stamp was applied. This is nothing more than an expedient lawyer s end-run around the US Constitution. From Iraq, to Afghanistan, to Libya, to Syria, and Yemen (not to mention covert actions in the Ukraine)   all of these are undeclared wars of aggression, for which Germany was also implicated over its actions from 1939, which was also the basis for the draft text in the Nuremberg Principles.The NYT adds:  He [Obama] defended an approach to fighting wars that did not bankrupt the Treasury or cause thousands of deaths. He noted, for instance, that he has spent $10 billion over the last two years fighting the Islamic State   the same amount of money President George W. Bush spent in just one month fighting the Iraq War. So right after he brags to a crowd of hapless US servicemen about how he defeated ISIS on the cheap, Obama signs a blank check to arm legions of murdering terrorists already running amok in Syria.Is this the final act of a President who fears that his all-important legacy is slipping away in the waning weeks of his own eight year regime?Obama s legacy is written already, however. It s one of overall nonexistent leadership, punctuated by a shifty foreign policy that s been littered with failure, enabled through executive criminality and repeated lies   and underlined by a total disregard for international law.This, from a man who was awarded the Nobel Peace Prize even before he served a day in office.That is Obama s legacy.*** EDITOR S NOTE: See Patrick Henningsen discuss Obama s latest move with RT International news on Thursday: . READ MORE SYRIA NEWS AT: 21st Century Wire Syria FilesSUPPORT 21WIRE  SUBSCRIBE & BECOME A MEMBER@21WIRE.TV\",\n          \"IF SHE S NOT TOAST NOW THEN WE RE IN BIGGER TROUBLE THAN I THOUGHT.  There s so much more to this whole thing and it s just getting worse for Bill and Hill. Chickens coming home to roost?Hillary Clinton s State Department was part of a panel that approved the sale of one of America s largest uranium mines at the same time a foundation controlled by the seller s chairman was making donations to a Clinton family charity, records reviewed by The Wall Street Journal show.The $610 million sale of 51% of Uranium One to a unit of Rosatom, Russia s state nuclear agency, was approved in 2010 by a U.S. federal committee that assesses the security implications of foreign investments. The State Department, which Mrs. Clinton then ran, is one of its members.Between 2008 and 2012, the Clinton Giustra Sustainable Growth Initiative, a project of the Clinton Foundation, received $2.35 million from the Fernwood Foundation, a family charity run by Ian Telfer, chairman of Uranium One before its sale, according to Canada Revenue Agency records.The donations were first reported in  Clinton Cash,  a new book by Peter Schweizer, an editor-at-large at a conservative news website, about the financial dealings of Mrs. Clinton and former President Bill Clinton. A copy of the book, set to be released next month, was reviewed by The Wall Street Journal. The book is to be published by HarperCollins, a division of News Corp., which also publishes the Journal.Via: Breitbart News\"\n        ],\n        \"semantic_type\": \"\",\n        \"description\": \"\"\n      }\n    },\n    {\n      \"column\": \"subject\",\n      \"properties\": {\n        \"dtype\": \"string\",\n        \"num_unique_values\": 4,\n        \"samples\": [\n          \"News\",\n          \"politics\",\n          \"US_News\"\n        ],\n        \"semantic_type\": \"\",\n        \"description\": \"\"\n      }\n    },\n    {\n      \"column\": \"date\",\n      \"properties\": {\n        \"dtype\": \"string\",\n        \"num_unique_values\": 5,\n        \"samples\": [\n          \"January 20, 2017\",\n          \"December 8, 2016\",\n          \"Apr 23, 2015\"\n        ],\n        \"semantic_type\": \"\",\n        \"description\": \"\"\n      }\n    }\n  ]\n}"
            }
          },
          "metadata": {},
          "execution_count": 7
        }
      ],
      "source": [
        "fake_df.sample(5)"
      ]
    },
    {
      "cell_type": "code",
      "execution_count": 8,
      "id": "03aa57f0-3212-4f06-ac2c-5264d3a92dd5",
      "metadata": {
        "colab": {
          "base_uri": "https://localhost:8080/"
        },
        "id": "03aa57f0-3212-4f06-ac2c-5264d3a92dd5",
        "outputId": "d06f37e9-e9d6-4691-ed5e-ad3e50037eb1"
      },
      "outputs": [
        {
          "output_type": "stream",
          "name": "stdout",
          "text": [
            "<class 'pandas.core.frame.DataFrame'>\n",
            "RangeIndex: 21417 entries, 0 to 21416\n",
            "Data columns (total 4 columns):\n",
            " #   Column   Non-Null Count  Dtype \n",
            "---  ------   --------------  ----- \n",
            " 0   title    21417 non-null  object\n",
            " 1   text     21417 non-null  object\n",
            " 2   subject  21417 non-null  object\n",
            " 3   date     21417 non-null  object\n",
            "dtypes: object(4)\n",
            "memory usage: 669.4+ KB\n"
          ]
        }
      ],
      "source": [
        "true_df.info()"
      ]
    },
    {
      "cell_type": "code",
      "execution_count": 9,
      "id": "837e443a-c28c-4fe6-9789-0a72cd3add66",
      "metadata": {
        "id": "837e443a-c28c-4fe6-9789-0a72cd3add66"
      },
      "outputs": [],
      "source": [
        "true_df['target'] = 1\n",
        "fake_df['target'] = 0"
      ]
    },
    {
      "cell_type": "code",
      "execution_count": 10,
      "id": "0fbfa87c-d9c2-42fd-931c-866b31b1edff",
      "metadata": {
        "id": "0fbfa87c-d9c2-42fd-931c-866b31b1edff"
      },
      "outputs": [],
      "source": [
        "true_df.drop(columns = ['title','subject','date'],inplace=True)\n",
        "fake_df.drop(columns = ['title','subject','date'],inplace=True)"
      ]
    },
    {
      "cell_type": "code",
      "execution_count": 11,
      "id": "11758f77-7e39-4f21-a0ce-412b369e7bc9",
      "metadata": {
        "colab": {
          "base_uri": "https://localhost:8080/",
          "height": 423
        },
        "id": "11758f77-7e39-4f21-a0ce-412b369e7bc9",
        "outputId": "9eaa808f-da99-4518-8391-5a406329f019"
      },
      "outputs": [
        {
          "output_type": "execute_result",
          "data": {
            "text/plain": [
              "                                                    text  target\n",
              "0      WASHINGTON (Reuters) - The head of a conservat...       1\n",
              "1      WASHINGTON (Reuters) - Transgender people will...       1\n",
              "2      WASHINGTON (Reuters) - The special counsel inv...       1\n",
              "3      WASHINGTON (Reuters) - Trump campaign adviser ...       1\n",
              "4      SEATTLE/WASHINGTON (Reuters) - President Donal...       1\n",
              "...                                                  ...     ...\n",
              "44893  21st Century Wire says As 21WIRE reported earl...       0\n",
              "44894  21st Century Wire says It s a familiar theme. ...       0\n",
              "44895  Patrick Henningsen  21st Century WireRemember ...       0\n",
              "44896  21st Century Wire says Al Jazeera America will...       0\n",
              "44897  21st Century Wire says As 21WIRE predicted in ...       0\n",
              "\n",
              "[44898 rows x 2 columns]"
            ],
            "text/html": [
              "\n",
              "  <div id=\"df-641ff1a8-69ee-4b62-adff-e231caeb89b0\" class=\"colab-df-container\">\n",
              "    <div>\n",
              "<style scoped>\n",
              "    .dataframe tbody tr th:only-of-type {\n",
              "        vertical-align: middle;\n",
              "    }\n",
              "\n",
              "    .dataframe tbody tr th {\n",
              "        vertical-align: top;\n",
              "    }\n",
              "\n",
              "    .dataframe thead th {\n",
              "        text-align: right;\n",
              "    }\n",
              "</style>\n",
              "<table border=\"1\" class=\"dataframe\">\n",
              "  <thead>\n",
              "    <tr style=\"text-align: right;\">\n",
              "      <th></th>\n",
              "      <th>text</th>\n",
              "      <th>target</th>\n",
              "    </tr>\n",
              "  </thead>\n",
              "  <tbody>\n",
              "    <tr>\n",
              "      <th>0</th>\n",
              "      <td>WASHINGTON (Reuters) - The head of a conservat...</td>\n",
              "      <td>1</td>\n",
              "    </tr>\n",
              "    <tr>\n",
              "      <th>1</th>\n",
              "      <td>WASHINGTON (Reuters) - Transgender people will...</td>\n",
              "      <td>1</td>\n",
              "    </tr>\n",
              "    <tr>\n",
              "      <th>2</th>\n",
              "      <td>WASHINGTON (Reuters) - The special counsel inv...</td>\n",
              "      <td>1</td>\n",
              "    </tr>\n",
              "    <tr>\n",
              "      <th>3</th>\n",
              "      <td>WASHINGTON (Reuters) - Trump campaign adviser ...</td>\n",
              "      <td>1</td>\n",
              "    </tr>\n",
              "    <tr>\n",
              "      <th>4</th>\n",
              "      <td>SEATTLE/WASHINGTON (Reuters) - President Donal...</td>\n",
              "      <td>1</td>\n",
              "    </tr>\n",
              "    <tr>\n",
              "      <th>...</th>\n",
              "      <td>...</td>\n",
              "      <td>...</td>\n",
              "    </tr>\n",
              "    <tr>\n",
              "      <th>44893</th>\n",
              "      <td>21st Century Wire says As 21WIRE reported earl...</td>\n",
              "      <td>0</td>\n",
              "    </tr>\n",
              "    <tr>\n",
              "      <th>44894</th>\n",
              "      <td>21st Century Wire says It s a familiar theme. ...</td>\n",
              "      <td>0</td>\n",
              "    </tr>\n",
              "    <tr>\n",
              "      <th>44895</th>\n",
              "      <td>Patrick Henningsen  21st Century WireRemember ...</td>\n",
              "      <td>0</td>\n",
              "    </tr>\n",
              "    <tr>\n",
              "      <th>44896</th>\n",
              "      <td>21st Century Wire says Al Jazeera America will...</td>\n",
              "      <td>0</td>\n",
              "    </tr>\n",
              "    <tr>\n",
              "      <th>44897</th>\n",
              "      <td>21st Century Wire says As 21WIRE predicted in ...</td>\n",
              "      <td>0</td>\n",
              "    </tr>\n",
              "  </tbody>\n",
              "</table>\n",
              "<p>44898 rows × 2 columns</p>\n",
              "</div>\n",
              "    <div class=\"colab-df-buttons\">\n",
              "\n",
              "  <div class=\"colab-df-container\">\n",
              "    <button class=\"colab-df-convert\" onclick=\"convertToInteractive('df-641ff1a8-69ee-4b62-adff-e231caeb89b0')\"\n",
              "            title=\"Convert this dataframe to an interactive table.\"\n",
              "            style=\"display:none;\">\n",
              "\n",
              "  <svg xmlns=\"http://www.w3.org/2000/svg\" height=\"24px\" viewBox=\"0 -960 960 960\">\n",
              "    <path d=\"M120-120v-720h720v720H120Zm60-500h600v-160H180v160Zm220 220h160v-160H400v160Zm0 220h160v-160H400v160ZM180-400h160v-160H180v160Zm440 0h160v-160H620v160ZM180-180h160v-160H180v160Zm440 0h160v-160H620v160Z\"/>\n",
              "  </svg>\n",
              "    </button>\n",
              "\n",
              "  <style>\n",
              "    .colab-df-container {\n",
              "      display:flex;\n",
              "      gap: 12px;\n",
              "    }\n",
              "\n",
              "    .colab-df-convert {\n",
              "      background-color: #E8F0FE;\n",
              "      border: none;\n",
              "      border-radius: 50%;\n",
              "      cursor: pointer;\n",
              "      display: none;\n",
              "      fill: #1967D2;\n",
              "      height: 32px;\n",
              "      padding: 0 0 0 0;\n",
              "      width: 32px;\n",
              "    }\n",
              "\n",
              "    .colab-df-convert:hover {\n",
              "      background-color: #E2EBFA;\n",
              "      box-shadow: 0px 1px 2px rgba(60, 64, 67, 0.3), 0px 1px 3px 1px rgba(60, 64, 67, 0.15);\n",
              "      fill: #174EA6;\n",
              "    }\n",
              "\n",
              "    .colab-df-buttons div {\n",
              "      margin-bottom: 4px;\n",
              "    }\n",
              "\n",
              "    [theme=dark] .colab-df-convert {\n",
              "      background-color: #3B4455;\n",
              "      fill: #D2E3FC;\n",
              "    }\n",
              "\n",
              "    [theme=dark] .colab-df-convert:hover {\n",
              "      background-color: #434B5C;\n",
              "      box-shadow: 0px 1px 3px 1px rgba(0, 0, 0, 0.15);\n",
              "      filter: drop-shadow(0px 1px 2px rgba(0, 0, 0, 0.3));\n",
              "      fill: #FFFFFF;\n",
              "    }\n",
              "  </style>\n",
              "\n",
              "    <script>\n",
              "      const buttonEl =\n",
              "        document.querySelector('#df-641ff1a8-69ee-4b62-adff-e231caeb89b0 button.colab-df-convert');\n",
              "      buttonEl.style.display =\n",
              "        google.colab.kernel.accessAllowed ? 'block' : 'none';\n",
              "\n",
              "      async function convertToInteractive(key) {\n",
              "        const element = document.querySelector('#df-641ff1a8-69ee-4b62-adff-e231caeb89b0');\n",
              "        const dataTable =\n",
              "          await google.colab.kernel.invokeFunction('convertToInteractive',\n",
              "                                                    [key], {});\n",
              "        if (!dataTable) return;\n",
              "\n",
              "        const docLinkHtml = 'Like what you see? Visit the ' +\n",
              "          '<a target=\"_blank\" href=https://colab.research.google.com/notebooks/data_table.ipynb>data table notebook</a>'\n",
              "          + ' to learn more about interactive tables.';\n",
              "        element.innerHTML = '';\n",
              "        dataTable['output_type'] = 'display_data';\n",
              "        await google.colab.output.renderOutput(dataTable, element);\n",
              "        const docLink = document.createElement('div');\n",
              "        docLink.innerHTML = docLinkHtml;\n",
              "        element.appendChild(docLink);\n",
              "      }\n",
              "    </script>\n",
              "  </div>\n",
              "\n",
              "\n",
              "    <div id=\"df-2643b850-13e6-4bbb-b5b6-edac37d8a148\">\n",
              "      <button class=\"colab-df-quickchart\" onclick=\"quickchart('df-2643b850-13e6-4bbb-b5b6-edac37d8a148')\"\n",
              "                title=\"Suggest charts\"\n",
              "                style=\"display:none;\">\n",
              "\n",
              "<svg xmlns=\"http://www.w3.org/2000/svg\" height=\"24px\"viewBox=\"0 0 24 24\"\n",
              "     width=\"24px\">\n",
              "    <g>\n",
              "        <path d=\"M19 3H5c-1.1 0-2 .9-2 2v14c0 1.1.9 2 2 2h14c1.1 0 2-.9 2-2V5c0-1.1-.9-2-2-2zM9 17H7v-7h2v7zm4 0h-2V7h2v10zm4 0h-2v-4h2v4z\"/>\n",
              "    </g>\n",
              "</svg>\n",
              "      </button>\n",
              "\n",
              "<style>\n",
              "  .colab-df-quickchart {\n",
              "      --bg-color: #E8F0FE;\n",
              "      --fill-color: #1967D2;\n",
              "      --hover-bg-color: #E2EBFA;\n",
              "      --hover-fill-color: #174EA6;\n",
              "      --disabled-fill-color: #AAA;\n",
              "      --disabled-bg-color: #DDD;\n",
              "  }\n",
              "\n",
              "  [theme=dark] .colab-df-quickchart {\n",
              "      --bg-color: #3B4455;\n",
              "      --fill-color: #D2E3FC;\n",
              "      --hover-bg-color: #434B5C;\n",
              "      --hover-fill-color: #FFFFFF;\n",
              "      --disabled-bg-color: #3B4455;\n",
              "      --disabled-fill-color: #666;\n",
              "  }\n",
              "\n",
              "  .colab-df-quickchart {\n",
              "    background-color: var(--bg-color);\n",
              "    border: none;\n",
              "    border-radius: 50%;\n",
              "    cursor: pointer;\n",
              "    display: none;\n",
              "    fill: var(--fill-color);\n",
              "    height: 32px;\n",
              "    padding: 0;\n",
              "    width: 32px;\n",
              "  }\n",
              "\n",
              "  .colab-df-quickchart:hover {\n",
              "    background-color: var(--hover-bg-color);\n",
              "    box-shadow: 0 1px 2px rgba(60, 64, 67, 0.3), 0 1px 3px 1px rgba(60, 64, 67, 0.15);\n",
              "    fill: var(--button-hover-fill-color);\n",
              "  }\n",
              "\n",
              "  .colab-df-quickchart-complete:disabled,\n",
              "  .colab-df-quickchart-complete:disabled:hover {\n",
              "    background-color: var(--disabled-bg-color);\n",
              "    fill: var(--disabled-fill-color);\n",
              "    box-shadow: none;\n",
              "  }\n",
              "\n",
              "  .colab-df-spinner {\n",
              "    border: 2px solid var(--fill-color);\n",
              "    border-color: transparent;\n",
              "    border-bottom-color: var(--fill-color);\n",
              "    animation:\n",
              "      spin 1s steps(1) infinite;\n",
              "  }\n",
              "\n",
              "  @keyframes spin {\n",
              "    0% {\n",
              "      border-color: transparent;\n",
              "      border-bottom-color: var(--fill-color);\n",
              "      border-left-color: var(--fill-color);\n",
              "    }\n",
              "    20% {\n",
              "      border-color: transparent;\n",
              "      border-left-color: var(--fill-color);\n",
              "      border-top-color: var(--fill-color);\n",
              "    }\n",
              "    30% {\n",
              "      border-color: transparent;\n",
              "      border-left-color: var(--fill-color);\n",
              "      border-top-color: var(--fill-color);\n",
              "      border-right-color: var(--fill-color);\n",
              "    }\n",
              "    40% {\n",
              "      border-color: transparent;\n",
              "      border-right-color: var(--fill-color);\n",
              "      border-top-color: var(--fill-color);\n",
              "    }\n",
              "    60% {\n",
              "      border-color: transparent;\n",
              "      border-right-color: var(--fill-color);\n",
              "    }\n",
              "    80% {\n",
              "      border-color: transparent;\n",
              "      border-right-color: var(--fill-color);\n",
              "      border-bottom-color: var(--fill-color);\n",
              "    }\n",
              "    90% {\n",
              "      border-color: transparent;\n",
              "      border-bottom-color: var(--fill-color);\n",
              "    }\n",
              "  }\n",
              "</style>\n",
              "\n",
              "      <script>\n",
              "        async function quickchart(key) {\n",
              "          const quickchartButtonEl =\n",
              "            document.querySelector('#' + key + ' button');\n",
              "          quickchartButtonEl.disabled = true;  // To prevent multiple clicks.\n",
              "          quickchartButtonEl.classList.add('colab-df-spinner');\n",
              "          try {\n",
              "            const charts = await google.colab.kernel.invokeFunction(\n",
              "                'suggestCharts', [key], {});\n",
              "          } catch (error) {\n",
              "            console.error('Error during call to suggestCharts:', error);\n",
              "          }\n",
              "          quickchartButtonEl.classList.remove('colab-df-spinner');\n",
              "          quickchartButtonEl.classList.add('colab-df-quickchart-complete');\n",
              "        }\n",
              "        (() => {\n",
              "          let quickchartButtonEl =\n",
              "            document.querySelector('#df-2643b850-13e6-4bbb-b5b6-edac37d8a148 button');\n",
              "          quickchartButtonEl.style.display =\n",
              "            google.colab.kernel.accessAllowed ? 'block' : 'none';\n",
              "        })();\n",
              "      </script>\n",
              "    </div>\n",
              "\n",
              "  <div id=\"id_31639872-7dab-47dd-be8b-b5a8b69a4c53\">\n",
              "    <style>\n",
              "      .colab-df-generate {\n",
              "        background-color: #E8F0FE;\n",
              "        border: none;\n",
              "        border-radius: 50%;\n",
              "        cursor: pointer;\n",
              "        display: none;\n",
              "        fill: #1967D2;\n",
              "        height: 32px;\n",
              "        padding: 0 0 0 0;\n",
              "        width: 32px;\n",
              "      }\n",
              "\n",
              "      .colab-df-generate:hover {\n",
              "        background-color: #E2EBFA;\n",
              "        box-shadow: 0px 1px 2px rgba(60, 64, 67, 0.3), 0px 1px 3px 1px rgba(60, 64, 67, 0.15);\n",
              "        fill: #174EA6;\n",
              "      }\n",
              "\n",
              "      [theme=dark] .colab-df-generate {\n",
              "        background-color: #3B4455;\n",
              "        fill: #D2E3FC;\n",
              "      }\n",
              "\n",
              "      [theme=dark] .colab-df-generate:hover {\n",
              "        background-color: #434B5C;\n",
              "        box-shadow: 0px 1px 3px 1px rgba(0, 0, 0, 0.15);\n",
              "        filter: drop-shadow(0px 1px 2px rgba(0, 0, 0, 0.3));\n",
              "        fill: #FFFFFF;\n",
              "      }\n",
              "    </style>\n",
              "    <button class=\"colab-df-generate\" onclick=\"generateWithVariable('df')\"\n",
              "            title=\"Generate code using this dataframe.\"\n",
              "            style=\"display:none;\">\n",
              "\n",
              "  <svg xmlns=\"http://www.w3.org/2000/svg\" height=\"24px\"viewBox=\"0 0 24 24\"\n",
              "       width=\"24px\">\n",
              "    <path d=\"M7,19H8.4L18.45,9,17,7.55,7,17.6ZM5,21V16.75L18.45,3.32a2,2,0,0,1,2.83,0l1.4,1.43a1.91,1.91,0,0,1,.58,1.4,1.91,1.91,0,0,1-.58,1.4L9.25,21ZM18.45,9,17,7.55Zm-12,3A5.31,5.31,0,0,0,4.9,8.1,5.31,5.31,0,0,0,1,6.5,5.31,5.31,0,0,0,4.9,4.9,5.31,5.31,0,0,0,6.5,1,5.31,5.31,0,0,0,8.1,4.9,5.31,5.31,0,0,0,12,6.5,5.46,5.46,0,0,0,6.5,12Z\"/>\n",
              "  </svg>\n",
              "    </button>\n",
              "    <script>\n",
              "      (() => {\n",
              "      const buttonEl =\n",
              "        document.querySelector('#id_31639872-7dab-47dd-be8b-b5a8b69a4c53 button.colab-df-generate');\n",
              "      buttonEl.style.display =\n",
              "        google.colab.kernel.accessAllowed ? 'block' : 'none';\n",
              "\n",
              "      buttonEl.onclick = () => {\n",
              "        google.colab.notebook.generateWithVariable('df');\n",
              "      }\n",
              "      })();\n",
              "    </script>\n",
              "  </div>\n",
              "\n",
              "    </div>\n",
              "  </div>\n"
            ],
            "application/vnd.google.colaboratory.intrinsic+json": {
              "type": "dataframe",
              "variable_name": "df",
              "summary": "{\n  \"name\": \"df\",\n  \"rows\": 44898,\n  \"fields\": [\n    {\n      \"column\": \"text\",\n      \"properties\": {\n        \"dtype\": \"string\",\n        \"num_unique_values\": 38646,\n        \"samples\": [\n          \"Here s the fake black guy, Shaun King weighing in on how awesome it is that Bernie Sanders can now come out of the socialist closet. Because America is soooo ready (or so Shaun thinks anyhow) to embrace a socialist. Here is his tweet:#1.https://twitter.com/ShaunKing/status/654100720929632256Here is a great question from the Janie Johnson:#2.The bottom 49% of earners pay zero taxes   how much more  fair  do you want the tax system? #DemDebate  Janie Johnson (@jjauthor) October 14, 2015Truth!#3.https://twitter.com/weknowwhatsbest/status/654128633385107456And this tweet is priceless:#4.https://twitter.com/weknowwhatsbest/status/654128132295802880Some race baiters were not satisfied that enough divisive questions were posed to the candidates. How much time exactly should we giving to the issue of race during our presidential debates? Would 50% of the debate time be acceptable to the #BlackLivesMatter terrorists?The first is from #BLM activist and George Soros favorite, Deray McKesson:#5..@AndersonCooper, you were strong tonight, though I hope there are more questions about race at the next debate. #DemDebate  deray mckesson (@deray) October 14, 2015Next is from the fake black guy, Shaun King who bemoans the lack of diversity on the debate stage:#6 and #7https://twitter.com/ShaunKing/status/654095075069296640https://twitter.com/ShaunKing/status/654113225005510656And then we have the self proclaimed  Trump girls,  Diamond and Silk weighing in on the debate hilarious!#8.We out. This is not a debate. This is a disgrace. Hope .@realDonaldTrump come to save the day. #stump4trumpbaby pic.twitter.com/I1CcLL31lX  Diamond and Silk  (@DiamondandSilk) October 14, 2015Best tweet of the night goes to the Donald:#9\\\"@releafpen: Dem debate message summary = More free handouts. They will be voting in droves. We need to get out and vote Trump BIG TIME!\\\"  Donald J. Trump (@realDonaldTrump) October 14, 2015And the runners-up are Two from conservative actor James Woods:#10.Thank God money grows on trees. This bunch has no allergy to spending it. Free college not only for Americans, but anybody from anywhere  James Woods (@RealJamesWoods) October 14, 2015We actually fibbed, there are 12 favorite tweets. We save 2 of our favorites from @iowahawk for last:I got 10 bucks that more people are following the debate on Trump's Twitter feed than on CNN  David Burge (@iowahawkblog) October 14, 2015How to make college affordable: don't go  David Burge (@iowahawkblog) October 14, 2015 \",\n          \"While Trump s Secretary of State was visiting a UN base on the border of North and South Korea on Friday, the former CEO of Exxon Mobil Corp. was photographed by a Reuters photographer, while at the same time, a North Korean soldier is seen photographing the top Diplomat covertly from the outside of a window. You can t make this stuff up. And now the picture is circulating on social media.In the image, a North Korean soldier can be seen on the right-hand corner of the picture peering in through a window and photographing Tillerson and a US Army general, Business Insider reports.The photo was taken inside the Demilitarized Zone (DMZ), which was created after the Korean War on what is now the most heavily armed border in the world, and obviously the most spied upon.NBC reporter Brad Jaffy tweeted out a version of the photo, which he zoomed in on, calling it  Rear Window. Rear Window: North Korean soldier takes a photo of Rex Tillerson at the DMZ pic.twitter.com/EHCIR3Fjo6  Bradd Jaffy (@BraddJaffy) March 17, 2017The original photo can be seen here.Tillerson announced on Friday at a news conference in Seoul that military action against North Korea is  an option  if the threat from its nuclear weapons program rises to a level  that we believe requires action. Tillerson told reporters that  all of the options are on the table. According to the Korea Herald, Tillerson cut his recent visit short with South Korean officials due to  fatigue. The newspaper reported that Tillerson did not have lunch or dinner with South Korean Foreign Minister Yun Byung-se and acting President and Prime Minister Hwang Kyo-ahn during his visit there.Tillerson spent several hours meeting with Japanese officials, which included dinner meetings, the paper noted, according to The Hill.The secretary of State reportedly did hold talks with both South Korean officials regarding the threat posed by North Korea s nuclear program.And that must have been before  fatigue  set in. On Twitter, Trump said that North Korea was  behaving very badly. South Korea s Constitutional Court upheld the impeachment of former President Park Geun-hye in March over a corruption scandal. In contrast, the U.S. has failed to address its newly minted president s growing list of scandals. Tillerson, too, has his own scandal to deal with.As for the North Korean soldier spying on Tillerson, perhaps if he wore spy glasses and a fake mustache no one would have noticed. The soldier has better access to the Secretary of State than U.S. reporters do.Photo by Alex Wong/Getty Images.\",\n          \"Join Patrick every week here at 21WIRE.TV for news, views and analysis on all top stories domestically and abroad THIS WEEK: Episode 4 The New World Order  Did Great Britain regain control of its former American colonies by stealth? From Cecil Rhodes and his Round Table, to H.G. Wells, to Henry Kissinger and Zbigniew Brzezinski   many have worked to steer the world beyond the modern nation state and into Technetronic Era of global government. But to what end?Host Patrick Henningsen talks to Sean Stone, author of the new book, New World Order: A Strategy for Imperialism. Listen:   END 927 Download Link  START 999 Download Link Download this podcast  END 999 Download Link This program broadcasts LIVE every Wednesday night from 8pm to 9pm MST, right after the Savage Nation, on Independent Talk 1100 KFNX over the terrestrial AM band across the greater Phoenix and central Arizona region, and live over global satellite and online via www.1100kfnx.com.READ MORE NWO NEWS AT: 21st Century Wire NWO Files\"\n        ],\n        \"semantic_type\": \"\",\n        \"description\": \"\"\n      }\n    },\n    {\n      \"column\": \"target\",\n      \"properties\": {\n        \"dtype\": \"number\",\n        \"std\": 0,\n        \"min\": 0,\n        \"max\": 1,\n        \"num_unique_values\": 2,\n        \"samples\": [\n          0,\n          1\n        ],\n        \"semantic_type\": \"\",\n        \"description\": \"\"\n      }\n    }\n  ]\n}"
            }
          },
          "metadata": {},
          "execution_count": 11
        }
      ],
      "source": [
        "df = pd.concat([true_df,fake_df],ignore_index=True)\n",
        "df"
      ]
    },
    {
      "cell_type": "code",
      "execution_count": 12,
      "id": "b1bde742-ec64-4e02-913d-d0aed7517545",
      "metadata": {
        "colab": {
          "base_uri": "https://localhost:8080/",
          "height": 444
        },
        "id": "b1bde742-ec64-4e02-913d-d0aed7517545",
        "outputId": "5cc5df0d-c398-4e2b-a996-edac4ee7e8e7"
      },
      "outputs": [
        {
          "output_type": "display_data",
          "data": {
            "text/plain": [
              "<Figure size 640x480 with 1 Axes>"
            ],
            "image/png": "[encoded data removed]"
          },
          "metadata": {}
        }
      ],
      "source": [
        "value_counts = df['target'].value_counts().plot(kind='bar')"
      ]
    },
    {
      "cell_type": "code",
      "execution_count": 13,
      "id": "f7b5bc92-56fe-484e-ab4c-e96042221817",
      "metadata": {
        "colab": {
          "base_uri": "https://localhost:8080/",
          "height": 147
        },
        "id": "f7b5bc92-56fe-484e-ab4c-e96042221817",
        "outputId": "5f90e584-42be-4ca7-af04-eb1aaa872209"
      },
      "outputs": [
        {
          "output_type": "execute_result",
          "data": {
            "text/plain": [
              "text      0\n",
              "target    0\n",
              "dtype: int64"
            ],
            "text/html": [
              "<div>\n",
              "<style scoped>\n",
              "    .dataframe tbody tr th:only-of-type {\n",
              "        vertical-align: middle;\n",
              "    }\n",
              "\n",
              "    .dataframe tbody tr th {\n",
              "        vertical-align: top;\n",
              "    }\n",
              "\n",
              "    .dataframe thead th {\n",
              "        text-align: right;\n",
              "    }\n",
              "</style>\n",
              "<table border=\"1\" class=\"dataframe\">\n",
              "  <thead>\n",
              "    <tr style=\"text-align: right;\">\n",
              "      <th></th>\n",
              "      <th>0</th>\n",
              "    </tr>\n",
              "  </thead>\n",
              "  <tbody>\n",
              "    <tr>\n",
              "      <th>text</th>\n",
              "      <td>0</td>\n",
              "    </tr>\n",
              "    <tr>\n",
              "      <th>target</th>\n",
              "      <td>0</td>\n",
              "    </tr>\n",
              "  </tbody>\n",
              "</table>\n",
              "</div><br><label><b>dtype:</b> int64</label>"
            ]
          },
          "metadata": {},
          "execution_count": 13
        }
      ],
      "source": [
        "# checking for the null values\n",
        "df.isnull().sum()"
      ]
    },
    {
      "cell_type": "code",
      "execution_count": 14,
      "id": "ee71c7d8-1d59-4257-997e-5a3fea4f3d54",
      "metadata": {
        "colab": {
          "base_uri": "https://localhost:8080/"
        },
        "id": "ee71c7d8-1d59-4257-997e-5a3fea4f3d54",
        "outputId": "a1bb811f-5535-47a7-cc68-bb82152c38ab"
      },
      "outputs": [
        {
          "output_type": "execute_result",
          "data": {
            "text/plain": [
              "np.int64(6251)"
            ]
          },
          "metadata": {},
          "execution_count": 14
        }
      ],
      "source": [
        "df.duplicated().sum()"
      ]
    },
    {
      "cell_type": "code",
      "execution_count": 15,
      "id": "f40530e7-ad74-43f5-9b8d-c70c0e4913a8",
      "metadata": {
        "colab": {
          "base_uri": "https://localhost:8080/"
        },
        "id": "f40530e7-ad74-43f5-9b8d-c70c0e4913a8",
        "outputId": "1e1b780a-b685-40b4-96f1-ac498d32dc8c"
      },
      "outputs": [
        {
          "output_type": "execute_result",
          "data": {
            "text/plain": [
              "np.int64(0)"
            ]
          },
          "metadata": {},
          "execution_count": 15
        }
      ],
      "source": [
        "# there are 6251 duplicate values in it\n",
        "# removing duplicated rows\n",
        "df.drop_duplicates(inplace=True)\n",
        "df.duplicated().sum()"
      ]
    },
    {
      "cell_type": "markdown",
      "id": "152c7337-0abb-4d62-87ee-9a8e422209a5",
      "metadata": {
        "id": "152c7337-0abb-4d62-87ee-9a8e422209a5"
      },
      "source": [
        "### Creating train_test split"
      ]
    },
    {
      "cell_type": "code",
      "execution_count": 16,
      "id": "e70b5c95-2d19-4d66-a694-4c720cc030f4",
      "metadata": {
        "colab": {
          "base_uri": "https://localhost:8080/"
        },
        "id": "e70b5c95-2d19-4d66-a694-4c720cc030f4",
        "outputId": "d9d7c4a8-8ced-4f17-f2e5-3354d02ce746"
      },
      "outputs": [
        {
          "output_type": "execute_result",
          "data": {
            "text/plain": [
              "((27052,), (27052,), (9855,), (9855,), (1740,), (1740,))"
            ]
          },
          "metadata": {},
          "execution_count": 16
        }
      ],
      "source": [
        "from sklearn.model_selection import train_test_split\n",
        "\n",
        "x_train,x_val,y_train,y_val= train_test_split(df['text'],df['target'],test_size=0.3,random_state=42,shuffle=True)\n",
        "x_val,x_test,y_val,y_test = train_test_split(x_val,y_val,test_size=0.15,random_state=42,shuffle=True)\n",
        "x_train.shape,y_train.shape,x_val.shape,y_val.shape,x_test.shape,y_test.shape"
      ]
    },
    {
      "cell_type": "code",
      "execution_count": 17,
      "id": "456569dc-666c-40c1-b7fd-71c8d10c852e",
      "metadata": {
        "colab": {
          "base_uri": "https://localhost:8080/"
        },
        "id": "456569dc-666c-40c1-b7fd-71c8d10c852e",
        "outputId": "45628689-a445-44fb-85f5-20638d1b6f57"
      },
      "outputs": [
        {
          "output_type": "execute_result",
          "data": {
            "text/plain": [
              "(target\n",
              " 1    14820\n",
              " 0    12232\n",
              " Name: count, dtype: int64,\n",
              " target\n",
              " 1    5405\n",
              " 0    4450\n",
              " Name: count, dtype: int64,\n",
              " target\n",
              " 1    967\n",
              " 0    773\n",
              " Name: count, dtype: int64)"
            ]
          },
          "metadata": {},
          "execution_count": 17
        }
      ],
      "source": [
        "# checking if the true and fake new are well mixed or not\n",
        "# if they the training data has only one target variable more than the model predictions will affect\n",
        "\n",
        "y_train.value_counts(),y_val.value_counts(),y_test.value_counts()"
      ]
    },
    {
      "cell_type": "markdown",
      "id": "615d3d4c-1fe5-4b74-bf74-f91ae0051fd5",
      "metadata": {
        "id": "615d3d4c-1fe5-4b74-bf74-f91ae0051fd5"
      },
      "source": [
        "## Creating a Baseline Model"
      ]
    },
    {
      "cell_type": "markdown",
      "id": "a81844ab-6349-480d-b868-48473f72d56b",
      "metadata": {
        "id": "a81844ab-6349-480d-b868-48473f72d56b"
      },
      "source": [
        "### MultinomialNB"
      ]
    },
    {
      "cell_type": "code",
      "execution_count": 18,
      "id": "a5d3bc49-02ce-46d3-98ab-6681ce3b2ffa",
      "metadata": {
        "colab": {
          "base_uri": "https://localhost:8080/",
          "height": 155
        },
        "id": "a5d3bc49-02ce-46d3-98ab-6681ce3b2ffa",
        "outputId": "28c1dec5-316d-430c-da3c-44abf49fd4e2"
      },
      "outputs": [
        {
          "output_type": "execute_result",
          "data": {
            "text/plain": [
              "Pipeline(steps=[('tfidf', TfidfVectorizer()), ('nb', MultinomialNB())])"
            ],
            "text/html": [
              "<style>#sk-container-id-1 {\n",
              "  /* Definition of color scheme common for light and dark mode */\n",
              "  --sklearn-color-text: #000;\n",
              "  --sklearn-color-text-muted: #666;\n",
              "  --sklearn-color-line: gray;\n",
              "  /* Definition of color scheme for unfitted estimators */\n",
              "  --sklearn-color-unfitted-level-0: #fff5e6;\n",
              "  --sklearn-color-unfitted-level-1: #f6e4d2;\n",
              "  --sklearn-color-unfitted-level-2: #ffe0b3;\n",
              "  --sklearn-color-unfitted-level-3: chocolate;\n",
              "  /* Definition of color scheme for fitted estimators */\n",
              "  --sklearn-color-fitted-level-0: #f0f8ff;\n",
              "  --sklearn-color-fitted-level-1: #d4ebff;\n",
              "  --sklearn-color-fitted-level-2: #b3dbfd;\n",
              "  --sklearn-color-fitted-level-3: cornflowerblue;\n",
              "\n",
              "  /* Specific color for light theme */\n",
              "  --sklearn-color-text-on-default-background: var(--sg-text-color, var(--theme-code-foreground, var(--jp-content-font-color1, black)));\n",
              "  --sklearn-color-background: var(--sg-background-color, var(--theme-background, var(--jp-layout-color0, white)));\n",
              "  --sklearn-color-border-box: var(--sg-text-color, var(--theme-code-foreground, var(--jp-content-font-color1, black)));\n",
              "  --sklearn-color-icon: #696969;\n",
              "\n",
              "  @media (prefers-color-scheme: dark) {\n",
              "    /* Redefinition of color scheme for dark theme */\n",
              "    --sklearn-color-text-on-default-background: var(--sg-text-color, var(--theme-code-foreground, var(--jp-content-font-color1, white)));\n",
              "    --sklearn-color-background: var(--sg-background-color, var(--theme-background, var(--jp-layout-color0, #111)));\n",
              "    --sklearn-color-border-box: var(--sg-text-color, var(--theme-code-foreground, var(--jp-content-font-color1, white)));\n",
              "    --sklearn-color-icon: #878787;\n",
              "  }\n",
              "}\n",
              "\n",
              "#sk-container-id-1 {\n",
              "  color: var(--sklearn-color-text);\n",
              "}\n",
              "\n",
              "#sk-container-id-1 pre {\n",
              "  padding: 0;\n",
              "}\n",
              "\n",
              "#sk-container-id-1 input.sk-hidden--visually {\n",
              "  border: 0;\n",
              "  clip: rect(1px 1px 1px 1px);\n",
              "  clip: rect(1px, 1px, 1px, 1px);\n",
              "  height: 1px;\n",
              "  margin: -1px;\n",
              "  overflow: hidden;\n",
              "  padding: 0;\n",
              "  position: absolute;\n",
              "  width: 1px;\n",
              "}\n",
              "\n",
              "#sk-container-id-1 div.sk-dashed-wrapped {\n",
              "  border: 1px dashed var(--sklearn-color-line);\n",
              "  margin: 0 0.4em 0.5em 0.4em;\n",
              "  box-sizing: border-box;\n",
              "  padding-bottom: 0.4em;\n",
              "  background-color: var(--sklearn-color-background);\n",
              "}\n",
              "\n",
              "#sk-container-id-1 div.sk-container {\n",
              "  /* jupyter's `normalize.less` sets `[hidden] { display: none; }`\n",
              "     but bootstrap.min.css set `[hidden] { display: none !important; }`\n",
              "     so we also need the `!important` here to be able to override the\n",
              "     default hidden behavior on the sphinx rendered scikit-learn.org.\n",
              "     See: https://github.com/scikit-learn/scikit-learn/issues/21755 */\n",
              "  display: inline-block !important;\n",
              "  position: relative;\n",
              "}\n",
              "\n",
              "#sk-container-id-1 div.sk-text-repr-fallback {\n",
              "  display: none;\n",
              "}\n",
              "\n",
              "div.sk-parallel-item,\n",
              "div.sk-serial,\n",
              "div.sk-item {\n",
              "  /* draw centered vertical line to link estimators */\n",
              "  background-image: linear-gradient(var(--sklearn-color-text-on-default-background), var(--sklearn-color-text-on-default-background));\n",
              "  background-size: 2px 100%;\n",
              "  background-repeat: no-repeat;\n",
              "  background-position: center center;\n",
              "}\n",
              "\n",
              "/* Parallel-specific style estimator block */\n",
              "\n",
              "#sk-container-id-1 div.sk-parallel-item::after {\n",
              "  content: \"\";\n",
              "  width: 100%;\n",
              "  border-bottom: 2px solid var(--sklearn-color-text-on-default-background);\n",
              "  flex-grow: 1;\n",
              "}\n",
              "\n",
              "#sk-container-id-1 div.sk-parallel {\n",
              "  display: flex;\n",
              "  align-items: stretch;\n",
              "  justify-content: center;\n",
              "  background-color: var(--sklearn-color-background);\n",
              "  position: relative;\n",
              "}\n",
              "\n",
              "#sk-container-id-1 div.sk-parallel-item {\n",
              "  display: flex;\n",
              "  flex-direction: column;\n",
              "}\n",
              "\n",
              "#sk-container-id-1 div.sk-parallel-item:first-child::after {\n",
              "  align-self: flex-end;\n",
              "  width: 50%;\n",
              "}\n",
              "\n",
              "#sk-container-id-1 div.sk-parallel-item:last-child::after {\n",
              "  align-self: flex-start;\n",
              "  width: 50%;\n",
              "}\n",
              "\n",
              "#sk-container-id-1 div.sk-parallel-item:only-child::after {\n",
              "  width: 0;\n",
              "}\n",
              "\n",
              "/* Serial-specific style estimator block */\n",
              "\n",
              "#sk-container-id-1 div.sk-serial {\n",
              "  display: flex;\n",
              "  flex-direction: column;\n",
              "  align-items: center;\n",
              "  background-color: var(--sklearn-color-background);\n",
              "  padding-right: 1em;\n",
              "  padding-left: 1em;\n",
              "}\n",
              "\n",
              "\n",
              "/* Toggleable style: style used for estimator/Pipeline/ColumnTransformer box that is\n",
              "clickable and can be expanded/collapsed.\n",
              "- Pipeline and ColumnTransformer use this feature and define the default style\n",
              "- Estimators will overwrite some part of the style using the `sk-estimator` class\n",
              "*/\n",
              "\n",
              "/* Pipeline and ColumnTransformer style (default) */\n",
              "\n",
              "#sk-container-id-1 div.sk-toggleable {\n",
              "  /* Default theme specific background. It is overwritten whether we have a\n",
              "  specific estimator or a Pipeline/ColumnTransformer */\n",
              "  background-color: var(--sklearn-color-background);\n",
              "}\n",
              "\n",
              "/* Toggleable label */\n",
              "#sk-container-id-1 label.sk-toggleable__label {\n",
              "  cursor: pointer;\n",
              "  display: flex;\n",
              "  width: 100%;\n",
              "  margin-bottom: 0;\n",
              "  padding: 0.5em;\n",
              "  box-sizing: border-box;\n",
              "  text-align: center;\n",
              "  align-items: start;\n",
              "  justify-content: space-between;\n",
              "  gap: 0.5em;\n",
              "}\n",
              "\n",
              "#sk-container-id-1 label.sk-toggleable__label .caption {\n",
              "  font-size: 0.6rem;\n",
              "  font-weight: lighter;\n",
              "  color: var(--sklearn-color-text-muted);\n",
              "}\n",
              "\n",
              "#sk-container-id-1 label.sk-toggleable__label-arrow:before {\n",
              "  /* Arrow on the left of the label */\n",
              "  content: \"▸\";\n",
              "  float: left;\n",
              "  margin-right: 0.25em;\n",
              "  color: var(--sklearn-color-icon);\n",
              "}\n",
              "\n",
              "#sk-container-id-1 label.sk-toggleable__label-arrow:hover:before {\n",
              "  color: var(--sklearn-color-text);\n",
              "}\n",
              "\n",
              "/* Toggleable content - dropdown */\n",
              "\n",
              "#sk-container-id-1 div.sk-toggleable__content {\n",
              "  max-height: 0;\n",
              "  max-width: 0;\n",
              "  overflow: hidden;\n",
              "  text-align: left;\n",
              "  /* unfitted */\n",
              "  background-color: var(--sklearn-color-unfitted-level-0);\n",
              "}\n",
              "\n",
              "#sk-container-id-1 div.sk-toggleable__content.fitted {\n",
              "  /* fitted */\n",
              "  background-color: var(--sklearn-color-fitted-level-0);\n",
              "}\n",
              "\n",
              "#sk-container-id-1 div.sk-toggleable__content pre {\n",
              "  margin: 0.2em;\n",
              "  border-radius: 0.25em;\n",
              "  color: var(--sklearn-color-text);\n",
              "  /* unfitted */\n",
              "  background-color: var(--sklearn-color-unfitted-level-0);\n",
              "}\n",
              "\n",
              "#sk-container-id-1 div.sk-toggleable__content.fitted pre {\n",
              "  /* unfitted */\n",
              "  background-color: var(--sklearn-color-fitted-level-0);\n",
              "}\n",
              "\n",
              "#sk-container-id-1 input.sk-toggleable__control:checked~div.sk-toggleable__content {\n",
              "  /* Expand drop-down */\n",
              "  max-height: 200px;\n",
              "  max-width: 100%;\n",
              "  overflow: auto;\n",
              "}\n",
              "\n",
              "#sk-container-id-1 input.sk-toggleable__control:checked~label.sk-toggleable__label-arrow:before {\n",
              "  content: \"▾\";\n",
              "}\n",
              "\n",
              "/* Pipeline/ColumnTransformer-specific style */\n",
              "\n",
              "#sk-container-id-1 div.sk-label input.sk-toggleable__control:checked~label.sk-toggleable__label {\n",
              "  color: var(--sklearn-color-text);\n",
              "  background-color: var(--sklearn-color-unfitted-level-2);\n",
              "}\n",
              "\n",
              "#sk-container-id-1 div.sk-label.fitted input.sk-toggleable__control:checked~label.sk-toggleable__label {\n",
              "  background-color: var(--sklearn-color-fitted-level-2);\n",
              "}\n",
              "\n",
              "/* Estimator-specific style */\n",
              "\n",
              "/* Colorize estimator box */\n",
              "#sk-container-id-1 div.sk-estimator input.sk-toggleable__control:checked~label.sk-toggleable__label {\n",
              "  /* unfitted */\n",
              "  background-color: var(--sklearn-color-unfitted-level-2);\n",
              "}\n",
              "\n",
              "#sk-container-id-1 div.sk-estimator.fitted input.sk-toggleable__control:checked~label.sk-toggleable__label {\n",
              "  /* fitted */\n",
              "  background-color: var(--sklearn-color-fitted-level-2);\n",
              "}\n",
              "\n",
              "#sk-container-id-1 div.sk-label label.sk-toggleable__label,\n",
              "#sk-container-id-1 div.sk-label label {\n",
              "  /* The background is the default theme color */\n",
              "  color: var(--sklearn-color-text-on-default-background);\n",
              "}\n",
              "\n",
              "/* On hover, darken the color of the background */\n",
              "#sk-container-id-1 div.sk-label:hover label.sk-toggleable__label {\n",
              "  color: var(--sklearn-color-text);\n",
              "  background-color: var(--sklearn-color-unfitted-level-2);\n",
              "}\n",
              "\n",
              "/* Label box, darken color on hover, fitted */\n",
              "#sk-container-id-1 div.sk-label.fitted:hover label.sk-toggleable__label.fitted {\n",
              "  color: var(--sklearn-color-text);\n",
              "  background-color: var(--sklearn-color-fitted-level-2);\n",
              "}\n",
              "\n",
              "/* Estimator label */\n",
              "\n",
              "#sk-container-id-1 div.sk-label label {\n",
              "  font-family: monospace;\n",
              "  font-weight: bold;\n",
              "  display: inline-block;\n",
              "  line-height: 1.2em;\n",
              "}\n",
              "\n",
              "#sk-container-id-1 div.sk-label-container {\n",
              "  text-align: center;\n",
              "}\n",
              "\n",
              "/* Estimator-specific */\n",
              "#sk-container-id-1 div.sk-estimator {\n",
              "  font-family: monospace;\n",
              "  border: 1px dotted var(--sklearn-color-border-box);\n",
              "  border-radius: 0.25em;\n",
              "  box-sizing: border-box;\n",
              "  margin-bottom: 0.5em;\n",
              "  /* unfitted */\n",
              "  background-color: var(--sklearn-color-unfitted-level-0);\n",
              "}\n",
              "\n",
              "#sk-container-id-1 div.sk-estimator.fitted {\n",
              "  /* fitted */\n",
              "  background-color: var(--sklearn-color-fitted-level-0);\n",
              "}\n",
              "\n",
              "/* on hover */\n",
              "#sk-container-id-1 div.sk-estimator:hover {\n",
              "  /* unfitted */\n",
              "  background-color: var(--sklearn-color-unfitted-level-2);\n",
              "}\n",
              "\n",
              "#sk-container-id-1 div.sk-estimator.fitted:hover {\n",
              "  /* fitted */\n",
              "  background-color: var(--sklearn-color-fitted-level-2);\n",
              "}\n",
              "\n",
              "/* Specification for estimator info (e.g. \"i\" and \"?\") */\n",
              "\n",
              "/* Common style for \"i\" and \"?\" */\n",
              "\n",
              ".sk-estimator-doc-link,\n",
              "a:link.sk-estimator-doc-link,\n",
              "a:visited.sk-estimator-doc-link {\n",
              "  float: right;\n",
              "  font-size: smaller;\n",
              "  line-height: 1em;\n",
              "  font-family: monospace;\n",
              "  background-color: var(--sklearn-color-background);\n",
              "  border-radius: 1em;\n",
              "  height: 1em;\n",
              "  width: 1em;\n",
              "  text-decoration: none !important;\n",
              "  margin-left: 0.5em;\n",
              "  text-align: center;\n",
              "  /* unfitted */\n",
              "  border: var(--sklearn-color-unfitted-level-1) 1pt solid;\n",
              "  color: var(--sklearn-color-unfitted-level-1);\n",
              "}\n",
              "\n",
              ".sk-estimator-doc-link.fitted,\n",
              "a:link.sk-estimator-doc-link.fitted,\n",
              "a:visited.sk-estimator-doc-link.fitted {\n",
              "  /* fitted */\n",
              "  border: var(--sklearn-color-fitted-level-1) 1pt solid;\n",
              "  color: var(--sklearn-color-fitted-level-1);\n",
              "}\n",
              "\n",
              "/* On hover */\n",
              "div.sk-estimator:hover .sk-estimator-doc-link:hover,\n",
              ".sk-estimator-doc-link:hover,\n",
              "div.sk-label-container:hover .sk-estimator-doc-link:hover,\n",
              ".sk-estimator-doc-link:hover {\n",
              "  /* unfitted */\n",
              "  background-color: var(--sklearn-color-unfitted-level-3);\n",
              "  color: var(--sklearn-color-background);\n",
              "  text-decoration: none;\n",
              "}\n",
              "\n",
              "div.sk-estimator.fitted:hover .sk-estimator-doc-link.fitted:hover,\n",
              ".sk-estimator-doc-link.fitted:hover,\n",
              "div.sk-label-container:hover .sk-estimator-doc-link.fitted:hover,\n",
              ".sk-estimator-doc-link.fitted:hover {\n",
              "  /* fitted */\n",
              "  background-color: var(--sklearn-color-fitted-level-3);\n",
              "  color: var(--sklearn-color-background);\n",
              "  text-decoration: none;\n",
              "}\n",
              "\n",
              "/* Span, style for the box shown on hovering the info icon */\n",
              ".sk-estimator-doc-link span {\n",
              "  display: none;\n",
              "  z-index: 9999;\n",
              "  position: relative;\n",
              "  font-weight: normal;\n",
              "  right: .2ex;\n",
              "  padding: .5ex;\n",
              "  margin: .5ex;\n",
              "  width: min-content;\n",
              "  min-width: 20ex;\n",
              "  max-width: 50ex;\n",
              "  color: var(--sklearn-color-text);\n",
              "  box-shadow: 2pt 2pt 4pt #999;\n",
              "  /* unfitted */\n",
              "  background: var(--sklearn-color-unfitted-level-0);\n",
              "  border: .5pt solid var(--sklearn-color-unfitted-level-3);\n",
              "}\n",
              "\n",
              ".sk-estimator-doc-link.fitted span {\n",
              "  /* fitted */\n",
              "  background: var(--sklearn-color-fitted-level-0);\n",
              "  border: var(--sklearn-color-fitted-level-3);\n",
              "}\n",
              "\n",
              ".sk-estimator-doc-link:hover span {\n",
              "  display: block;\n",
              "}\n",
              "\n",
              "/* \"?\"-specific style due to the `<a>` HTML tag */\n",
              "\n",
              "#sk-container-id-1 a.estimator_doc_link {\n",
              "  float: right;\n",
              "  font-size: 1rem;\n",
              "  line-height: 1em;\n",
              "  font-family: monospace;\n",
              "  background-color: var(--sklearn-color-background);\n",
              "  border-radius: 1rem;\n",
              "  height: 1rem;\n",
              "  width: 1rem;\n",
              "  text-decoration: none;\n",
              "  /* unfitted */\n",
              "  color: var(--sklearn-color-unfitted-level-1);\n",
              "  border: var(--sklearn-color-unfitted-level-1) 1pt solid;\n",
              "}\n",
              "\n",
              "#sk-container-id-1 a.estimator_doc_link.fitted {\n",
              "  /* fitted */\n",
              "  border: var(--sklearn-color-fitted-level-1) 1pt solid;\n",
              "  color: var(--sklearn-color-fitted-level-1);\n",
              "}\n",
              "\n",
              "/* On hover */\n",
              "#sk-container-id-1 a.estimator_doc_link:hover {\n",
              "  /* unfitted */\n",
              "  background-color: var(--sklearn-color-unfitted-level-3);\n",
              "  color: var(--sklearn-color-background);\n",
              "  text-decoration: none;\n",
              "}\n",
              "\n",
              "#sk-container-id-1 a.estimator_doc_link.fitted:hover {\n",
              "  /* fitted */\n",
              "  background-color: var(--sklearn-color-fitted-level-3);\n",
              "}\n",
              "</style><div id=\"sk-container-id-1\" class=\"sk-top-container\"><div class=\"sk-text-repr-fallback\"><pre>Pipeline(steps=[(&#x27;tfidf&#x27;, TfidfVectorizer()), (&#x27;nb&#x27;, MultinomialNB())])</pre><b>In a Jupyter environment, please rerun this cell to show the HTML representation or trust the notebook. <br />On GitHub, the HTML representation is unable to render, please try loading this page with nbviewer.org.</b></div><div class=\"sk-container\" hidden><div class=\"sk-item sk-dashed-wrapped\"><div class=\"sk-label-container\"><div class=\"sk-label fitted sk-toggleable\"><input class=\"sk-toggleable__control sk-hidden--visually\" id=\"sk-estimator-id-1\" type=\"checkbox\" ><label for=\"sk-estimator-id-1\" class=\"sk-toggleable__label fitted sk-toggleable__label-arrow\"><div><div>Pipeline</div></div><div><a class=\"sk-estimator-doc-link fitted\" rel=\"noreferrer\" target=\"_blank\" href=\"https://scikit-learn.org/1.6/modules/generated/sklearn.pipeline.Pipeline.html\">?<span>Documentation for Pipeline</span></a><span class=\"sk-estimator-doc-link fitted\">i<span>Fitted</span></span></div></label><div class=\"sk-toggleable__content fitted\"><pre>Pipeline(steps=[(&#x27;tfidf&#x27;, TfidfVectorizer()), (&#x27;nb&#x27;, MultinomialNB())])</pre></div> </div></div><div class=\"sk-serial\"><div class=\"sk-item\"><div class=\"sk-estimator fitted sk-toggleable\"><input class=\"sk-toggleable__control sk-hidden--visually\" id=\"sk-estimator-id-2\" type=\"checkbox\" ><label for=\"sk-estimator-id-2\" class=\"sk-toggleable__label fitted sk-toggleable__label-arrow\"><div><div>TfidfVectorizer</div></div><div><a class=\"sk-estimator-doc-link fitted\" rel=\"noreferrer\" target=\"_blank\" href=\"https://scikit-learn.org/1.6/modules/generated/sklearn.feature_extraction.text.TfidfVectorizer.html\">?<span>Documentation for TfidfVectorizer</span></a></div></label><div class=\"sk-toggleable__content fitted\"><pre>TfidfVectorizer()</pre></div> </div></div><div class=\"sk-item\"><div class=\"sk-estimator fitted sk-toggleable\"><input class=\"sk-toggleable__control sk-hidden--visually\" id=\"sk-estimator-id-3\" type=\"checkbox\" ><label for=\"sk-estimator-id-3\" class=\"sk-toggleable__label fitted sk-toggleable__label-arrow\"><div><div>MultinomialNB</div></div><div><a class=\"sk-estimator-doc-link fitted\" rel=\"noreferrer\" target=\"_blank\" href=\"https://scikit-learn.org/1.6/modules/generated/sklearn.naive_bayes.MultinomialNB.html\">?<span>Documentation for MultinomialNB</span></a></div></label><div class=\"sk-toggleable__content fitted\"><pre>MultinomialNB()</pre></div> </div></div></div></div></div></div>"
            ]
          },
          "metadata": {},
          "execution_count": 18
        }
      ],
      "source": [
        "from sklearn.feature_extraction.text import TfidfVectorizer\n",
        "from sklearn.naive_bayes import MultinomialNB\n",
        "from sklearn.pipeline import Pipeline\n",
        "\n",
        "model = Pipeline([\n",
        "    (\"tfidf\",TfidfVectorizer()),\n",
        "    (\"nb\", MultinomialNB())\n",
        "])\n",
        "\n",
        "model.fit(x_train,y_train)"
      ]
    },
    {
      "cell_type": "code",
      "execution_count": 19,
      "id": "6812918f-69d6-430a-9aad-f1b1121c9d77",
      "metadata": {
        "colab": {
          "base_uri": "https://localhost:8080/"
        },
        "id": "6812918f-69d6-430a-9aad-f1b1121c9d77",
        "outputId": "9433a0b2-c742-4a9d-8c4c-6dd51b4be61a"
      },
      "outputs": [
        {
          "output_type": "execute_result",
          "data": {
            "text/plain": [
              "0.9374936580416032"
            ]
          },
          "metadata": {},
          "execution_count": 19
        }
      ],
      "source": [
        "model.score(x_val,y_val)\n"
      ]
    },
    {
      "cell_type": "code",
      "execution_count": 20,
      "id": "06578680-892e-46e4-ba76-167df48b6c17",
      "metadata": {
        "colab": {
          "base_uri": "https://localhost:8080/"
        },
        "id": "06578680-892e-46e4-ba76-167df48b6c17",
        "outputId": "3e6e976d-aa75-4d74-c9e4-2a356a7a7b32"
      },
      "outputs": [
        {
          "output_type": "execute_result",
          "data": {
            "text/plain": [
              "0.9379310344827586"
            ]
          },
          "metadata": {},
          "execution_count": 20
        }
      ],
      "source": [
        "model.score(x_test,y_test)\n"
      ]
    },
    {
      "cell_type": "markdown",
      "id": "10f39208-fcc8-45c9-8d29-f386b52676c6",
      "metadata": {
        "id": "10f39208-fcc8-45c9-8d29-f386b52676c6"
      },
      "source": [
        "## Data Preprocessing"
      ]
    },
    {
      "cell_type": "code",
      "execution_count": 21,
      "id": "6c264645-4811-4f8a-ab1a-5717a7cb1dd6",
      "metadata": {
        "colab": {
          "base_uri": "https://localhost:8080/"
        },
        "id": "6c264645-4811-4f8a-ab1a-5717a7cb1dd6",
        "outputId": "cbb893a2-d86f-40fb-fd37-a6931d5664c2"
      },
      "outputs": [
        {
          "output_type": "stream",
          "name": "stdout",
          "text": [
            "Donald Trump continued escalating his rhetoric on nuclear weapons Wednesday morning in a boast that should concern every American.The reality of a potential nuclear holocaust hasn t been this worrisome since\n"
          ]
        }
      ],
      "source": [
        "# first 30 words before preprocessing\n",
        "array = []\n",
        "count = 0\n",
        "for words in x_train.iloc[0].split(\" \"):\n",
        "    array.append(words)\n",
        "    count+=1\n",
        "    if count>30:\n",
        "        break\n",
        "print(\" \".join(array))\n",
        ""
      ]
    },
    {
      "cell_type": "code",
      "execution_count": 22,
      "id": "b2c2bb87-8bc9-4474-b5b7-07b886a4df16",
      "metadata": {
        "id": "b2c2bb87-8bc9-4474-b5b7-07b886a4df16"
      },
      "outputs": [],
      "source": [
        "import re\n",
        "\n",
        "def process(text):\n",
        "    text = text.lower()\n",
        "\n",
        "    text = re.sub('[^a-zA-Z]',\" \",text)\n",
        "    text = re.sub('\\s+',\" \",text)\n",
        "    text = re.sub(r'https?://\\S+|www\\.\\S+|[^a-zA-Z\\s]', '', text)\n",
        "    text = re.sub(r\"<.*?>\",\"\",text)\n",
        "\n",
        "    return text"
      ]
    },
    {
      "cell_type": "code",
      "execution_count": 23,
      "id": "681b119c-1f88-4930-8e9b-bb03f37e7bc0",
      "metadata": {
        "id": "681b119c-1f88-4930-8e9b-bb03f37e7bc0"
      },
      "outputs": [],
      "source": [
        "# use np.vectorize to apply function to all instead of writing a loop\n",
        "vectorized = np.vectorize(process)\n",
        "x_train = vectorized(x_train)\n",
        "x_val = vectorized(x_val)\n",
        "x_test = vectorized(x_test)"
      ]
    },
    {
      "cell_type": "code",
      "execution_count": 24,
      "id": "0e425a8f-9a28-4654-9dc7-7adf0f7b4231",
      "metadata": {
        "colab": {
          "base_uri": "https://localhost:8080/",
          "height": 53
        },
        "id": "0e425a8f-9a28-4654-9dc7-7adf0f7b4231",
        "outputId": "07830a59-039e-4854-882c-6e1cda703e1d"
      },
      "outputs": [
        {
          "output_type": "execute_result",
          "data": {
            "text/plain": [
              "'donald trump continued escalating his rhetoric on nuclear weapons wednesday morning in a boast that should concern every american the reality of a potential nuclear holocaust hasn t been this'"
            ],
            "application/vnd.google.colaboratory.intrinsic+json": {
              "type": "string"
            }
          },
          "metadata": {},
          "execution_count": 24
        }
      ],
      "source": [
        "\" \".join(x_train[0].split(\" \")[:30])"
      ]
    },
    {
      "cell_type": "markdown",
      "id": "335f6578-ca5a-42b5-8b40-31b758170cdf",
      "metadata": {
        "id": "335f6578-ca5a-42b5-8b40-31b758170cdf"
      },
      "source": [
        "### Tokenizer and padding"
      ]
    },
    {
      "cell_type": "code",
      "execution_count": 25,
      "id": "9b0b7d44-ac68-4e5a-8694-a5ee3f23f6e6",
      "metadata": {
        "id": "9b0b7d44-ac68-4e5a-8694-a5ee3f23f6e6"
      },
      "outputs": [],
      "source": [
        "from tensorflow.keras.preprocessing.text import Tokenizer\n",
        "from tensorflow.keras.preprocessing.sequence import pad_sequences\n",
        "\n",
        "\n",
        "# Adding tokenizer first fit it to the data and then transform the data\n",
        "tokenizer = Tokenizer()\n",
        "tokenizer.fit_on_texts(x_train)\n",
        "\n",
        "x_train = tokenizer.texts_to_sequences(x_train)\n",
        "x_val = tokenizer.texts_to_sequences(x_val)\n",
        "x_test = tokenizer.texts_to_sequences(x_test)"
      ]
    },
    {
      "cell_type": "code",
      "execution_count": 26,
      "id": "e3d4de43-275b-44a3-95b9-4a5bb4aa6eab",
      "metadata": {
        "id": "e3d4de43-275b-44a3-95b9-4a5bb4aa6eab"
      },
      "outputs": [],
      "source": [
        "max_vocab = len(tokenizer.word_index) + 1\n",
        "max_length = max(len(d) for d in x_train)"
      ]
    },
    {
      "cell_type": "code",
      "execution_count": 27,
      "id": "91d5d9c4-1325-4f8a-b9ea-2ebe11a051f5",
      "metadata": {
        "id": "91d5d9c4-1325-4f8a-b9ea-2ebe11a051f5"
      },
      "outputs": [],
      "source": [
        "x_train = pad_sequences(x_train,maxlen=max_length,padding='post',truncating='post')\n",
        "x_val = pad_sequences(x_val,maxlen=max_length,padding='post',truncating='post')\n",
        "x_test = pad_sequences(x_test,maxlen=max_length,padding='post',truncating='post')"
      ]
    },
    {
      "cell_type": "code",
      "execution_count": 28,
      "id": "132ac8d3-e07d-49b8-a923-5638c4d2dad2",
      "metadata": {
        "colab": {
          "base_uri": "https://localhost:8080/"
        },
        "id": "132ac8d3-e07d-49b8-a923-5638c4d2dad2",
        "outputId": "abbd6cce-acd5-49a7-c07f-f3d2bf2a4008"
      },
      "outputs": [
        {
          "output_type": "execute_result",
          "data": {
            "text/plain": [
              "(8281, 96735)"
            ]
          },
          "metadata": {},
          "execution_count": 28
        }
      ],
      "source": [
        "max_length,max_vocab"
      ]
    },
    {
      "cell_type": "markdown",
      "id": "c80b56a3-5df5-44b1-a154-d2cf25e79413",
      "metadata": {
        "id": "c80b56a3-5df5-44b1-a154-d2cf25e79413"
      },
      "source": [
        "## Creating model"
      ]
    },
    {
      "cell_type": "code",
      "execution_count": 29,
      "id": "6b2616e6-03f4-431f-a81d-8ecc4b3b20cd",
      "metadata": {
        "id": "6b2616e6-03f4-431f-a81d-8ecc4b3b20cd"
      },
      "outputs": [],
      "source": [
        "# creating earlystopping and learning rate changer\n",
        "from tensorflow.keras.callbacks import EarlyStopping,ReduceLROnPlateau\n",
        "\n",
        "earlystopping = EarlyStopping(monitor='val_loss',patience=2,\n",
        "                          restore_best_weights=True,mode='min')\n",
        "reducelr = ReduceLROnPlateau(monitor='val_loss',factor=0.2,patience=1,mode='min')"
      ]
    },
    {
      "cell_type": "code",
      "execution_count": 30,
      "id": "a4ef26de-f22c-44fb-b633-654b840f411e",
      "metadata": {
        "id": "a4ef26de-f22c-44fb-b633-654b840f411e"
      },
      "outputs": [],
      "source": [
        "from tensorflow.keras import layers\n",
        "model_1 = tf.keras.Sequential([\n",
        "    layers.Input(shape=(max_length,)),\n",
        "    layers.Embedding(max_vocab,300,input_length=max_length,trainable=False),\n",
        "\n",
        "    # add rnn\n",
        "    layers.Bidirectional(layers.LSTM(128,return_sequences=True)),\n",
        "    layers.Bidirectional(layers.LSTM(64)),\n",
        "\n",
        "    layers.Dropout(0.2),\n",
        "\n",
        "    layers.Dense(256,activation=\"relu\"),\n",
        "    layers.Dropout(0.5),\n",
        "\n",
        "    layers.Dense(1,activation='sigmoid')\n",
        "])"
      ]
    },
    {
      "cell_type": "code",
      "execution_count": 31,
      "id": "3a5b8bea-d185-46f6-8211-38eec0e43379",
      "metadata": {
        "colab": {
          "base_uri": "https://localhost:8080/"
        },
        "id": "3a5b8bea-d185-46f6-8211-38eec0e43379",
        "outputId": "2f1017e1-e9ab-47c3-c693-46e0de086f08"
      },
      "outputs": [
        {
          "output_type": "stream",
          "name": "stdout",
          "text": [
            "Epoch 1/10\n",
            "\u001b[1m846/846\u001b[0m \u001b[32m━━━━━━━━━━━━━━━━━━━━\u001b[0m\u001b[37m\u001b[0m \u001b[1m1066s\u001b[0m 1s/step - accuracy: 0.9319 - loss: 0.1324 - val_accuracy: 0.9918 - val_loss: 0.0475 - learning_rate: 0.0010\n",
            "Epoch 2/10\n",
            "\u001b[1m846/846\u001b[0m \u001b[32m━━━━━━━━━━━━━━━━━━━━\u001b[0m\u001b[37m\u001b[0m \u001b[1m1068s\u001b[0m 1s/step - accuracy: 0.9916 - loss: 0.0483 - val_accuracy: 0.9944 - val_loss: 0.0364 - learning_rate: 0.0010\n",
            "Epoch 3/10\n",
            "\u001b[1m846/846\u001b[0m \u001b[32m━━━━━━━━━━━━━━━━━━━━\u001b[0m\u001b[37m\u001b[0m \u001b[1m1043s\u001b[0m 1s/step - accuracy: 0.9888 - loss: 0.0600 - val_accuracy: 0.9770 - val_loss: 0.0808 - learning_rate: 0.0010\n",
            "Epoch 4/10\n",
            "\u001b[1m846/846\u001b[0m \u001b[32m━━━━━━━━━━━━━━━━━━━━\u001b[0m\u001b[37m\u001b[0m \u001b[1m1038s\u001b[0m 1s/step - accuracy: 0.9912 - loss: 0.0395 - val_accuracy: 0.9983 - val_loss: 0.0103 - learning_rate: 2.0000e-04\n",
            "Epoch 5/10\n",
            "\u001b[1m846/846\u001b[0m \u001b[32m━━━━━━━━━━━━━━━━━━━━\u001b[0m\u001b[37m\u001b[0m \u001b[1m1041s\u001b[0m 1s/step - accuracy: 0.9972 - loss: 0.0165 - val_accuracy: 0.9984 - val_loss: 0.0082 - learning_rate: 2.0000e-04\n",
            "Epoch 6/10\n",
            "\u001b[1m846/846\u001b[0m \u001b[32m━━━━━━━━━━━━━━━━━━━━\u001b[0m\u001b[37m\u001b[0m \u001b[1m1024s\u001b[0m 1s/step - accuracy: 0.9973 - loss: 0.0162 - val_accuracy: 0.9985 - val_loss: 0.0080 - learning_rate: 2.0000e-04\n",
            "Epoch 7/10\n",
            "\u001b[1m846/846\u001b[0m \u001b[32m━━━━━━━━━━━━━━━━━━━━\u001b[0m\u001b[37m\u001b[0m \u001b[1m1041s\u001b[0m 1s/step - accuracy: 0.9963 - loss: 0.0183 - val_accuracy: 0.9985 - val_loss: 0.0077 - learning_rate: 2.0000e-04\n",
            "Epoch 8/10\n",
            "\u001b[1m846/846\u001b[0m \u001b[32m━━━━━━━━━━━━━━━━━━━━\u001b[0m\u001b[37m\u001b[0m \u001b[1m1022s\u001b[0m 1s/step - accuracy: 0.9977 - loss: 0.0143 - val_accuracy: 0.9985 - val_loss: 0.0081 - learning_rate: 2.0000e-04\n",
            "Epoch 9/10\n",
            "\u001b[1m846/846\u001b[0m \u001b[32m━━━━━━━━━━━━━━━━━━━━\u001b[0m\u001b[37m\u001b[0m \u001b[1m1041s\u001b[0m 1s/step - accuracy: 0.9976 - loss: 0.0132 - val_accuracy: 0.9986 - val_loss: 0.0076 - learning_rate: 4.0000e-05\n",
            "Epoch 10/10\n",
            "\u001b[1m846/846\u001b[0m \u001b[32m━━━━━━━━━━━━━━━━━━━━\u001b[0m\u001b[37m\u001b[0m \u001b[1m1040s\u001b[0m 1s/step - accuracy: 0.9981 - loss: 0.0122 - val_accuracy: 0.9986 - val_loss: 0.0075 - learning_rate: 4.0000e-05\n"
          ]
        }
      ],
      "source": [
        "model_1.compile(\n",
        "    loss='binary_crossentropy',\n",
        "    optimizer=tf.keras.optimizers.Adam(learning_rate=0.001),\n",
        "    metrics=['accuracy']\n",
        ")\n",
        "\n",
        "history_1 = model_1.fit(\n",
        "    x_train,\n",
        "    y_train,\n",
        "    epochs=10,\n",
        "    validation_data=(x_val,y_val),\n",
        "    callbacks=[earlystopping,reducelr]\n",
        ")"
      ]
    },
    {
      "cell_type": "code",
      "source": [
        "model_1.save(\"my_model.keras\")"
      ],
      "metadata": {
        "id": "gN3J3ryR9KsF"
      },
      "id": "gN3J3ryR9KsF",
      "execution_count": 33,
      "outputs": []
    },
    {
      "cell_type": "code",
      "source": [
        "from sklearn.metrics import accuracy_score\n",
        "train_preds = tf.round(model_1.predict(x_train))\n",
        "val_preds = tf.round(model_1.predict(x_val))\n",
        "test_preds = tf.round(model_1.predict(x_test))\n"
      ],
      "metadata": {
        "colab": {
          "base_uri": "https://localhost:8080/"
        },
        "id": "aj0eeKmP7vvB",
        "outputId": "03843412-3c0a-4fd2-8d59-5057638437d7"
      },
      "id": "aj0eeKmP7vvB",
      "execution_count": 35,
      "outputs": [
        {
          "output_type": "stream",
          "name": "stdout",
          "text": [
            "\u001b[1m846/846\u001b[0m \u001b[32m━━━━━━━━━━━━━━━━━━━━\u001b[0m\u001b[37m\u001b[0m \u001b[1m354s\u001b[0m 418ms/step\n",
            "\u001b[1m308/308\u001b[0m \u001b[32m━━━━━━━━━━━━━━━━━━━━\u001b[0m\u001b[37m\u001b[0m \u001b[1m128s\u001b[0m 416ms/step\n",
            "\u001b[1m55/55\u001b[0m \u001b[32m━━━━━━━━━━━━━━━━━━━━\u001b[0m\u001b[37m\u001b[0m \u001b[1m23s\u001b[0m 418ms/step\n",
            "Train Accuracy : 99.79 %\n",
            "Test Accuracy  : 99.86 %\n",
            "Test Accuracy  : 99.77 %\n"
          ]
        }
      ]
    },
    {
      "cell_type": "code",
      "execution_count": 34,
      "id": "670f10a2-ad38-4e75-b8d4-254dd71006c5",
      "metadata": {
        "colab": {
          "base_uri": "https://localhost:8080/",
          "height": 860
        },
        "id": "670f10a2-ad38-4e75-b8d4-254dd71006c5",
        "outputId": "4050891f-395e-480d-a8db-390791952483"
      },
      "outputs": [
        {
          "output_type": "execute_result",
          "data": {
            "text/plain": [
              "<Axes: >"
            ]
          },
          "metadata": {},
          "execution_count": 34
        },
        {
          "output_type": "display_data",
          "data": {
            "text/plain": [
              "<Figure size 640x480 with 1 Axes>"
            ],
            "image/png": "[encoded data removed]"
          },
          "metadata": {}
        },
        {
          "output_type": "display_data",
          "data": {
            "text/plain": [
              "<Figure size 640x480 with 1 Axes>"
            ],
            "image/png": "[encoded data removed]"
          },
          "metadata": {}
        }
      ],
      "source": [
        "history_df = pd.DataFrame(history_1.history)\n",
        "history_df.loc[:,['accuracy','val_accuracy']].plot()\n",
        "history_df.loc[:,['loss','val_loss']].plot()"
      ]
    },
    {
      "cell_type": "code",
      "source": [
        "\n",
        "print(f'Train Accuracy : {accuracy_score(y_train, train_preds) * 100:.2f} %')\n",
        "print(f'Validation Accuracy  : {accuracy_score(y_val, val_preds) * 100:.2f} %')\n",
        "print(f'Test Accuracy  : {accuracy_score(y_test, test_preds) * 100:.2f} %')"
      ],
      "metadata": {
        "colab": {
          "base_uri": "https://localhost:8080/"
        },
        "id": "ncbllKl29N8y",
        "outputId": "70a64464-95d4-4fe9-ee9c-1cac1a61ff66"
      },
      "id": "ncbllKl29N8y",
      "execution_count": 36,
      "outputs": [
        {
          "output_type": "stream",
          "name": "stdout",
          "text": [
            "Train Accuracy : 99.79 %\n",
            "Validation Accuracy  : 99.86 %\n",
            "Test Accuracy  : 99.77 %\n"
          ]
        }
      ]
    },
    {
      "cell_type": "code",
      "source": [
        "import matplotlib.pyplot as plt\n",
        "from sklearn.metrics import confusion_matrix,ConfusionMatrixDisplay\n",
        "train_matrix = confusion_matrix(y_train, train_preds)\n",
        "test_matrix = confusion_matrix(y_test, test_preds)\n",
        "\n",
        "class_labels = ['fake', 'true']\n",
        "\n",
        "disp_train = ConfusionMatrixDisplay(confusion_matrix = train_matrix, display_labels = class_labels)\n",
        "disp_test = ConfusionMatrixDisplay(confusion_matrix = test_matrix, display_labels = class_labels)\n",
        "\n",
        "fig, axs = plt.subplots(1, 2, figsize = (8, 12))\n",
        "\n",
        "# train\n",
        "\n",
        "disp_train.plot(ax = axs[0], cmap = 'YlGnBu', colorbar = False)\n",
        "axs[0].set_title('Train Confusion Matrix')\n",
        "\n",
        "# test\n",
        "\n",
        "disp_test.plot(ax = axs[1], cmap = 'YlGnBu', colorbar = False)\n",
        "axs[1].set_title('Test Confusion Matrix')\n",
        "\n",
        "plt.tight_layout()\n",
        "plt.show()\n"
      ],
      "metadata": {
        "colab": {
          "base_uri": "https://localhost:8080/",
          "height": 421
        },
        "id": "hee-IcU2mhk9",
        "outputId": "586a8a64-6f40-4c94-91df-4e1b717035dc"
      },
      "id": "hee-IcU2mhk9",
      "execution_count": 38,
      "outputs": [
        {
          "output_type": "display_data",
          "data": {
            "text/plain": [
              "<Figure size 800x1200 with 2 Axes>"
            ],
            "image/png": "[encoded data removed]"
          },
          "metadata": {}
        }
      ]
    },
    {
      "cell_type": "code",
      "source": [],
      "metadata": {
        "id": "DbE38lO3nD1_"
      },
      "id": "DbE38lO3nD1_",
      "execution_count": null,
      "outputs": []
    }
  ],
  "metadata": {
    "kernelspec": {
      "display_name": "Python 3",
      "name": "python3"
    },
    "language_info": {
      "name": "python"
    },
    "colab": {
      "provenance": [],
      "gpuType": "T4"
    },
    "accelerator": "GPU"
  },
  "nbformat": 4,
  "nbformat_minor": 5
}